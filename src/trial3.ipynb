{
 "cells": [
  {
   "cell_type": "code",
   "execution_count": 2,
   "id": "deb5ad61",
   "metadata": {},
   "outputs": [],
   "source": [
    "model_filepath_to_load = f\"../bin/cnn_models/AlexNetLike_CIFAR10_Sparse_Baseline_best_model.h5\"\n",
    "NUM_CLASSES=10"
   ]
  },
  {
   "cell_type": "code",
   "execution_count": 15,
   "id": "37c11d5d",
   "metadata": {},
   "outputs": [],
   "source": [
    "from sklearn.metrics import f1_score\n",
    "from sklearn.model_selection import train_test_split\n",
    "from tensorflow.keras.datasets import cifar10\n",
    "import numpy as np\n",
    "from sequential import Sequential\n",
    "from layers.dense import Dense\n",
    "from layers.conv2d import Conv2D\n",
    "from layers.flatten import Flatten\n",
    "from layers.pooling import MaxPooling2D\n",
    "from layers.dropout import Dropout"
   ]
  },
  {
   "cell_type": "code",
   "execution_count": 11,
   "id": "03619dd8",
   "metadata": {},
   "outputs": [
    {
     "name": "stdout",
     "output_type": "stream",
     "text": [
      "Loading CIFAR-10 dataset...\n",
      "Original X_train_full shape: (50000, 32, 32, 3)\n",
      "Original y_train_full shape: (50000, 1)\n",
      "Original X_test shape: (10000, 32, 32, 3)\n",
      "Original y_test shape: (10000, 1)\n",
      "Final X_train_final shape: (40000, 32, 32, 3)\n",
      "Final y_train_final_int shape: (40000,)\n",
      "Final X_val_final shape: (10000, 32, 32, 3)\n",
      "Final y_val_final_int shape: (10000,)\n",
      "Final X_test_norm shape: (10000, 32, 32, 3)\n",
      "Final y_test_int_for_f1 shape: (10000,)\n"
     ]
    }
   ],
   "source": [
    "print(\"Loading CIFAR-10 dataset...\")\n",
    "(X_train_full, y_train_full), (X_test, y_test_labels_for_f1) = cifar10.load_data() # y_test is already (10000,1)\n",
    "\n",
    "print(f\"Original X_train_full shape: {X_train_full.shape}\")\n",
    "print(f\"Original y_train_full shape: {y_train_full.shape}\")\n",
    "print(f\"Original X_test shape: {X_test.shape}\")\n",
    "print(f\"Original y_test shape: {y_test_labels_for_f1.shape}\")\n",
    "\n",
    "# Normalize pixel values\n",
    "X_train_full_norm = X_train_full.astype('float32') / 255.0\n",
    "X_test_norm = X_test.astype('float32') / 255.0\n",
    "\n",
    "y_train_full_int = y_train_full.flatten()\n",
    "y_test_int_for_f1 = y_test_labels_for_f1.flatten()\n",
    "\n",
    "num_classes = 10\n",
    "\n",
    "X_train_final, X_val_final, y_train_final_int, y_val_final_int = train_test_split(\n",
    "    X_train_full_norm, y_train_full_int,\n",
    "    test_size=0.2,\n",
    "    random_state=42,\n",
    "    stratify=y_train_full_int\n",
    ")\n",
    "\n",
    "print(f\"Final X_train_final shape: {X_train_final.shape}\")\n",
    "print(f\"Final y_train_final_int shape: {y_train_final_int.shape}\")\n",
    "print(f\"Final X_val_final shape: {X_val_final.shape}\")\n",
    "print(f\"Final y_val_final_int shape: {y_val_final_int.shape}\")\n",
    "print(f\"Final X_test_norm shape: {X_test_norm.shape}\")\n",
    "print(f\"Final y_test_int_for_f1 shape: {y_test_int_for_f1.shape}\")"
   ]
  },
  {
   "cell_type": "code",
   "execution_count": 12,
   "id": "d885c3d4",
   "metadata": {},
   "outputs": [],
   "source": [
    "custom_cnn_1 = Sequential([\n",
    "    Conv2D(48, (5, 5), strides=(1,1), activation='relu', padding='same'),\n",
    "    MaxPooling2D((2, 2), strides=(2,2)),\n",
    "    Conv2D(128, (3, 3), activation='relu', padding='same'),\n",
    "    MaxPooling2D((2, 2), strides=(2,2)),\n",
    "    Conv2D(192, (3, 3), activation='relu', padding='same'),\n",
    "    Conv2D(192, (3, 3), activation='relu', padding='same'),\n",
    "    Conv2D(128, (3, 3), activation='relu', padding='same'),\n",
    "    MaxPooling2D((2, 2), strides=(2,2)),\n",
    "    Flatten(),\n",
    "    Dense(256, activation='relu'),\n",
    "    Dropout(),\n",
    "    Dense(128, activation='relu'),\n",
    "    Dropout(),\n",
    "    Dense(NUM_CLASSES, activation='softmax')\n",
    "])"
   ]
  },
  {
   "cell_type": "code",
   "execution_count": 13,
   "id": "4211c2c7",
   "metadata": {},
   "outputs": [
    {
     "name": "stdout",
     "output_type": "stream",
     "text": [
      "HDF5 layer keys: ['conv2d_1', 'conv2d_2', 'conv2d_3', 'conv2d_4', 'conv2d_5', 'dense_1', 'dense_2', 'dense_output', 'dropout_1', 'dropout_2', 'flatten', 'maxpool_1', 'maxpool_2', 'maxpool_3', 'top_level_model_weights']\n",
      "Loading 2 weight array(s) into layer 0 (type: Conv2D, key: conv2d_1)\n",
      "WARNING: No weights found for layer 'maxpool_1'.\n",
      "Loading 0 weight array(s) into layer 1 (type: MaxPooling2D, key: maxpool_1)\n",
      "Pooling has no trainable weights — skipping\n",
      "Loading 2 weight array(s) into layer 2 (type: Conv2D, key: conv2d_2)\n",
      "WARNING: No weights found for layer 'maxpool_2'.\n",
      "Loading 0 weight array(s) into layer 3 (type: MaxPooling2D, key: maxpool_2)\n",
      "Pooling has no trainable weights — skipping\n",
      "Loading 2 weight array(s) into layer 4 (type: Conv2D, key: conv2d_3)\n",
      "Loading 2 weight array(s) into layer 5 (type: Conv2D, key: conv2d_4)\n",
      "Loading 2 weight array(s) into layer 6 (type: Conv2D, key: conv2d_5)\n",
      "WARNING: No weights found for layer 'maxpool_3'.\n",
      "Loading 0 weight array(s) into layer 7 (type: MaxPooling2D, key: maxpool_3)\n",
      "Pooling has no trainable weights — skipping\n",
      "WARNING: No weights found for layer 'flatten'.\n",
      "Loading 0 weight array(s) into layer 8 (type: Flatten, key: flatten)\n",
      "Flatten has no trainable weights — skipping\n",
      "Loading 2 weight array(s) into layer 9 (type: Dense, key: dense_1)\n",
      "WARNING: No weights found for layer 'dropout_1'.\n",
      "Loading 0 weight array(s) into layer 10 (type: Dropout, key: dropout_1)\n",
      "Dropout has no trainable weights — skipping\n",
      "Loading 2 weight array(s) into layer 11 (type: Dense, key: dense_2)\n",
      "WARNING: No weights found for layer 'dropout_2'.\n",
      "Loading 0 weight array(s) into layer 12 (type: Dropout, key: dropout_2)\n",
      "Dropout has no trainable weights — skipping\n",
      "Loading 2 weight array(s) into layer 13 (type: Dense, key: dense_output)\n"
     ]
    }
   ],
   "source": [
    "custom_cnn_1.load_weights(model_filepath_to_load)"
   ]
  },
  {
   "cell_type": "code",
   "execution_count": 14,
   "id": "9cfdb1c8",
   "metadata": {},
   "outputs": [],
   "source": [
    "def evaluate_macro_f1(y_true, y_pred, dataset_name=\"Validation\"):\n",
    "    macro_f1 = f1_score(y_true, y_pred, average='macro')\n",
    "    print(f\"Macro F1-score on {dataset_name} set: {macro_f1:.4f}\")\n",
    "    return macro_f1"
   ]
  },
  {
   "cell_type": "code",
   "execution_count": 19,
   "id": "e2fe8530",
   "metadata": {},
   "outputs": [
    {
     "name": "stderr",
     "output_type": "stream",
     "text": [
      "WARNING:absl:Compiled the loaded model, but the compiled metrics have yet to be built. `model.compile_metrics` will be empty until you train or evaluate the model.\n"
     ]
    },
    {
     "data": {
      "text/html": [
       "<pre style=\"white-space:pre;overflow-x:auto;line-height:normal;font-family:Menlo,'DejaVu Sans Mono',consolas,'Courier New',monospace\"><span style=\"font-weight: bold\">Model: \"AlexNetLike_CIFAR10_Sparse\"</span>\n",
       "</pre>\n"
      ],
      "text/plain": [
       "\u001b[1mModel: \"AlexNetLike_CIFAR10_Sparse\"\u001b[0m\n"
      ]
     },
     "metadata": {},
     "output_type": "display_data"
    },
    {
     "data": {
      "text/html": [
       "<pre style=\"white-space:pre;overflow-x:auto;line-height:normal;font-family:Menlo,'DejaVu Sans Mono',consolas,'Courier New',monospace\">┏━━━━━━━━━━━━━━━━━━━━━━━━━━━━━━━━━┳━━━━━━━━━━━━━━━━━━━━━━━━┳━━━━━━━━━━━━━━━┓\n",
       "┃<span style=\"font-weight: bold\"> Layer (type)                    </span>┃<span style=\"font-weight: bold\"> Output Shape           </span>┃<span style=\"font-weight: bold\">       Param # </span>┃\n",
       "┡━━━━━━━━━━━━━━━━━━━━━━━━━━━━━━━━━╇━━━━━━━━━━━━━━━━━━━━━━━━╇━━━━━━━━━━━━━━━┩\n",
       "│ conv2d_1 (<span style=\"color: #0087ff; text-decoration-color: #0087ff\">Conv2D</span>)               │ (<span style=\"color: #00d7ff; text-decoration-color: #00d7ff\">None</span>, <span style=\"color: #00af00; text-decoration-color: #00af00\">32</span>, <span style=\"color: #00af00; text-decoration-color: #00af00\">32</span>, <span style=\"color: #00af00; text-decoration-color: #00af00\">48</span>)     │         <span style=\"color: #00af00; text-decoration-color: #00af00\">3,648</span> │\n",
       "├─────────────────────────────────┼────────────────────────┼───────────────┤\n",
       "│ maxpool_1 (<span style=\"color: #0087ff; text-decoration-color: #0087ff\">MaxPooling2D</span>)        │ (<span style=\"color: #00d7ff; text-decoration-color: #00d7ff\">None</span>, <span style=\"color: #00af00; text-decoration-color: #00af00\">16</span>, <span style=\"color: #00af00; text-decoration-color: #00af00\">16</span>, <span style=\"color: #00af00; text-decoration-color: #00af00\">48</span>)     │             <span style=\"color: #00af00; text-decoration-color: #00af00\">0</span> │\n",
       "├─────────────────────────────────┼────────────────────────┼───────────────┤\n",
       "│ conv2d_2 (<span style=\"color: #0087ff; text-decoration-color: #0087ff\">Conv2D</span>)               │ (<span style=\"color: #00d7ff; text-decoration-color: #00d7ff\">None</span>, <span style=\"color: #00af00; text-decoration-color: #00af00\">16</span>, <span style=\"color: #00af00; text-decoration-color: #00af00\">16</span>, <span style=\"color: #00af00; text-decoration-color: #00af00\">128</span>)    │        <span style=\"color: #00af00; text-decoration-color: #00af00\">55,424</span> │\n",
       "├─────────────────────────────────┼────────────────────────┼───────────────┤\n",
       "│ maxpool_2 (<span style=\"color: #0087ff; text-decoration-color: #0087ff\">MaxPooling2D</span>)        │ (<span style=\"color: #00d7ff; text-decoration-color: #00d7ff\">None</span>, <span style=\"color: #00af00; text-decoration-color: #00af00\">8</span>, <span style=\"color: #00af00; text-decoration-color: #00af00\">8</span>, <span style=\"color: #00af00; text-decoration-color: #00af00\">128</span>)      │             <span style=\"color: #00af00; text-decoration-color: #00af00\">0</span> │\n",
       "├─────────────────────────────────┼────────────────────────┼───────────────┤\n",
       "│ conv2d_3 (<span style=\"color: #0087ff; text-decoration-color: #0087ff\">Conv2D</span>)               │ (<span style=\"color: #00d7ff; text-decoration-color: #00d7ff\">None</span>, <span style=\"color: #00af00; text-decoration-color: #00af00\">8</span>, <span style=\"color: #00af00; text-decoration-color: #00af00\">8</span>, <span style=\"color: #00af00; text-decoration-color: #00af00\">192</span>)      │       <span style=\"color: #00af00; text-decoration-color: #00af00\">221,376</span> │\n",
       "├─────────────────────────────────┼────────────────────────┼───────────────┤\n",
       "│ conv2d_4 (<span style=\"color: #0087ff; text-decoration-color: #0087ff\">Conv2D</span>)               │ (<span style=\"color: #00d7ff; text-decoration-color: #00d7ff\">None</span>, <span style=\"color: #00af00; text-decoration-color: #00af00\">8</span>, <span style=\"color: #00af00; text-decoration-color: #00af00\">8</span>, <span style=\"color: #00af00; text-decoration-color: #00af00\">192</span>)      │       <span style=\"color: #00af00; text-decoration-color: #00af00\">331,968</span> │\n",
       "├─────────────────────────────────┼────────────────────────┼───────────────┤\n",
       "│ conv2d_5 (<span style=\"color: #0087ff; text-decoration-color: #0087ff\">Conv2D</span>)               │ (<span style=\"color: #00d7ff; text-decoration-color: #00d7ff\">None</span>, <span style=\"color: #00af00; text-decoration-color: #00af00\">8</span>, <span style=\"color: #00af00; text-decoration-color: #00af00\">8</span>, <span style=\"color: #00af00; text-decoration-color: #00af00\">128</span>)      │       <span style=\"color: #00af00; text-decoration-color: #00af00\">221,312</span> │\n",
       "├─────────────────────────────────┼────────────────────────┼───────────────┤\n",
       "│ maxpool_3 (<span style=\"color: #0087ff; text-decoration-color: #0087ff\">MaxPooling2D</span>)        │ (<span style=\"color: #00d7ff; text-decoration-color: #00d7ff\">None</span>, <span style=\"color: #00af00; text-decoration-color: #00af00\">4</span>, <span style=\"color: #00af00; text-decoration-color: #00af00\">4</span>, <span style=\"color: #00af00; text-decoration-color: #00af00\">128</span>)      │             <span style=\"color: #00af00; text-decoration-color: #00af00\">0</span> │\n",
       "├─────────────────────────────────┼────────────────────────┼───────────────┤\n",
       "│ flatten (<span style=\"color: #0087ff; text-decoration-color: #0087ff\">Flatten</span>)               │ (<span style=\"color: #00d7ff; text-decoration-color: #00d7ff\">None</span>, <span style=\"color: #00af00; text-decoration-color: #00af00\">2048</span>)           │             <span style=\"color: #00af00; text-decoration-color: #00af00\">0</span> │\n",
       "├─────────────────────────────────┼────────────────────────┼───────────────┤\n",
       "│ dense_1 (<span style=\"color: #0087ff; text-decoration-color: #0087ff\">Dense</span>)                 │ (<span style=\"color: #00d7ff; text-decoration-color: #00d7ff\">None</span>, <span style=\"color: #00af00; text-decoration-color: #00af00\">256</span>)            │       <span style=\"color: #00af00; text-decoration-color: #00af00\">524,544</span> │\n",
       "├─────────────────────────────────┼────────────────────────┼───────────────┤\n",
       "│ dropout_1 (<span style=\"color: #0087ff; text-decoration-color: #0087ff\">Dropout</span>)             │ (<span style=\"color: #00d7ff; text-decoration-color: #00d7ff\">None</span>, <span style=\"color: #00af00; text-decoration-color: #00af00\">256</span>)            │             <span style=\"color: #00af00; text-decoration-color: #00af00\">0</span> │\n",
       "├─────────────────────────────────┼────────────────────────┼───────────────┤\n",
       "│ dense_2 (<span style=\"color: #0087ff; text-decoration-color: #0087ff\">Dense</span>)                 │ (<span style=\"color: #00d7ff; text-decoration-color: #00d7ff\">None</span>, <span style=\"color: #00af00; text-decoration-color: #00af00\">128</span>)            │        <span style=\"color: #00af00; text-decoration-color: #00af00\">32,896</span> │\n",
       "├─────────────────────────────────┼────────────────────────┼───────────────┤\n",
       "│ dropout_2 (<span style=\"color: #0087ff; text-decoration-color: #0087ff\">Dropout</span>)             │ (<span style=\"color: #00d7ff; text-decoration-color: #00d7ff\">None</span>, <span style=\"color: #00af00; text-decoration-color: #00af00\">128</span>)            │             <span style=\"color: #00af00; text-decoration-color: #00af00\">0</span> │\n",
       "├─────────────────────────────────┼────────────────────────┼───────────────┤\n",
       "│ dense_output (<span style=\"color: #0087ff; text-decoration-color: #0087ff\">Dense</span>)            │ (<span style=\"color: #00d7ff; text-decoration-color: #00d7ff\">None</span>, <span style=\"color: #00af00; text-decoration-color: #00af00\">10</span>)             │         <span style=\"color: #00af00; text-decoration-color: #00af00\">1,290</span> │\n",
       "└─────────────────────────────────┴────────────────────────┴───────────────┘\n",
       "</pre>\n"
      ],
      "text/plain": [
       "┏━━━━━━━━━━━━━━━━━━━━━━━━━━━━━━━━━┳━━━━━━━━━━━━━━━━━━━━━━━━┳━━━━━━━━━━━━━━━┓\n",
       "┃\u001b[1m \u001b[0m\u001b[1mLayer (type)                   \u001b[0m\u001b[1m \u001b[0m┃\u001b[1m \u001b[0m\u001b[1mOutput Shape          \u001b[0m\u001b[1m \u001b[0m┃\u001b[1m \u001b[0m\u001b[1m      Param #\u001b[0m\u001b[1m \u001b[0m┃\n",
       "┡━━━━━━━━━━━━━━━━━━━━━━━━━━━━━━━━━╇━━━━━━━━━━━━━━━━━━━━━━━━╇━━━━━━━━━━━━━━━┩\n",
       "│ conv2d_1 (\u001b[38;5;33mConv2D\u001b[0m)               │ (\u001b[38;5;45mNone\u001b[0m, \u001b[38;5;34m32\u001b[0m, \u001b[38;5;34m32\u001b[0m, \u001b[38;5;34m48\u001b[0m)     │         \u001b[38;5;34m3,648\u001b[0m │\n",
       "├─────────────────────────────────┼────────────────────────┼───────────────┤\n",
       "│ maxpool_1 (\u001b[38;5;33mMaxPooling2D\u001b[0m)        │ (\u001b[38;5;45mNone\u001b[0m, \u001b[38;5;34m16\u001b[0m, \u001b[38;5;34m16\u001b[0m, \u001b[38;5;34m48\u001b[0m)     │             \u001b[38;5;34m0\u001b[0m │\n",
       "├─────────────────────────────────┼────────────────────────┼───────────────┤\n",
       "│ conv2d_2 (\u001b[38;5;33mConv2D\u001b[0m)               │ (\u001b[38;5;45mNone\u001b[0m, \u001b[38;5;34m16\u001b[0m, \u001b[38;5;34m16\u001b[0m, \u001b[38;5;34m128\u001b[0m)    │        \u001b[38;5;34m55,424\u001b[0m │\n",
       "├─────────────────────────────────┼────────────────────────┼───────────────┤\n",
       "│ maxpool_2 (\u001b[38;5;33mMaxPooling2D\u001b[0m)        │ (\u001b[38;5;45mNone\u001b[0m, \u001b[38;5;34m8\u001b[0m, \u001b[38;5;34m8\u001b[0m, \u001b[38;5;34m128\u001b[0m)      │             \u001b[38;5;34m0\u001b[0m │\n",
       "├─────────────────────────────────┼────────────────────────┼───────────────┤\n",
       "│ conv2d_3 (\u001b[38;5;33mConv2D\u001b[0m)               │ (\u001b[38;5;45mNone\u001b[0m, \u001b[38;5;34m8\u001b[0m, \u001b[38;5;34m8\u001b[0m, \u001b[38;5;34m192\u001b[0m)      │       \u001b[38;5;34m221,376\u001b[0m │\n",
       "├─────────────────────────────────┼────────────────────────┼───────────────┤\n",
       "│ conv2d_4 (\u001b[38;5;33mConv2D\u001b[0m)               │ (\u001b[38;5;45mNone\u001b[0m, \u001b[38;5;34m8\u001b[0m, \u001b[38;5;34m8\u001b[0m, \u001b[38;5;34m192\u001b[0m)      │       \u001b[38;5;34m331,968\u001b[0m │\n",
       "├─────────────────────────────────┼────────────────────────┼───────────────┤\n",
       "│ conv2d_5 (\u001b[38;5;33mConv2D\u001b[0m)               │ (\u001b[38;5;45mNone\u001b[0m, \u001b[38;5;34m8\u001b[0m, \u001b[38;5;34m8\u001b[0m, \u001b[38;5;34m128\u001b[0m)      │       \u001b[38;5;34m221,312\u001b[0m │\n",
       "├─────────────────────────────────┼────────────────────────┼───────────────┤\n",
       "│ maxpool_3 (\u001b[38;5;33mMaxPooling2D\u001b[0m)        │ (\u001b[38;5;45mNone\u001b[0m, \u001b[38;5;34m4\u001b[0m, \u001b[38;5;34m4\u001b[0m, \u001b[38;5;34m128\u001b[0m)      │             \u001b[38;5;34m0\u001b[0m │\n",
       "├─────────────────────────────────┼────────────────────────┼───────────────┤\n",
       "│ flatten (\u001b[38;5;33mFlatten\u001b[0m)               │ (\u001b[38;5;45mNone\u001b[0m, \u001b[38;5;34m2048\u001b[0m)           │             \u001b[38;5;34m0\u001b[0m │\n",
       "├─────────────────────────────────┼────────────────────────┼───────────────┤\n",
       "│ dense_1 (\u001b[38;5;33mDense\u001b[0m)                 │ (\u001b[38;5;45mNone\u001b[0m, \u001b[38;5;34m256\u001b[0m)            │       \u001b[38;5;34m524,544\u001b[0m │\n",
       "├─────────────────────────────────┼────────────────────────┼───────────────┤\n",
       "│ dropout_1 (\u001b[38;5;33mDropout\u001b[0m)             │ (\u001b[38;5;45mNone\u001b[0m, \u001b[38;5;34m256\u001b[0m)            │             \u001b[38;5;34m0\u001b[0m │\n",
       "├─────────────────────────────────┼────────────────────────┼───────────────┤\n",
       "│ dense_2 (\u001b[38;5;33mDense\u001b[0m)                 │ (\u001b[38;5;45mNone\u001b[0m, \u001b[38;5;34m128\u001b[0m)            │        \u001b[38;5;34m32,896\u001b[0m │\n",
       "├─────────────────────────────────┼────────────────────────┼───────────────┤\n",
       "│ dropout_2 (\u001b[38;5;33mDropout\u001b[0m)             │ (\u001b[38;5;45mNone\u001b[0m, \u001b[38;5;34m128\u001b[0m)            │             \u001b[38;5;34m0\u001b[0m │\n",
       "├─────────────────────────────────┼────────────────────────┼───────────────┤\n",
       "│ dense_output (\u001b[38;5;33mDense\u001b[0m)            │ (\u001b[38;5;45mNone\u001b[0m, \u001b[38;5;34m10\u001b[0m)             │         \u001b[38;5;34m1,290\u001b[0m │\n",
       "└─────────────────────────────────┴────────────────────────┴───────────────┘\n"
      ]
     },
     "metadata": {},
     "output_type": "display_data"
    },
    {
     "data": {
      "text/html": [
       "<pre style=\"white-space:pre;overflow-x:auto;line-height:normal;font-family:Menlo,'DejaVu Sans Mono',consolas,'Courier New',monospace\"><span style=\"font-weight: bold\"> Total params: </span><span style=\"color: #00af00; text-decoration-color: #00af00\">1,392,460</span> (5.31 MB)\n",
       "</pre>\n"
      ],
      "text/plain": [
       "\u001b[1m Total params: \u001b[0m\u001b[38;5;34m1,392,460\u001b[0m (5.31 MB)\n"
      ]
     },
     "metadata": {},
     "output_type": "display_data"
    },
    {
     "data": {
      "text/html": [
       "<pre style=\"white-space:pre;overflow-x:auto;line-height:normal;font-family:Menlo,'DejaVu Sans Mono',consolas,'Courier New',monospace\"><span style=\"font-weight: bold\"> Trainable params: </span><span style=\"color: #00af00; text-decoration-color: #00af00\">1,392,458</span> (5.31 MB)\n",
       "</pre>\n"
      ],
      "text/plain": [
       "\u001b[1m Trainable params: \u001b[0m\u001b[38;5;34m1,392,458\u001b[0m (5.31 MB)\n"
      ]
     },
     "metadata": {},
     "output_type": "display_data"
    },
    {
     "data": {
      "text/html": [
       "<pre style=\"white-space:pre;overflow-x:auto;line-height:normal;font-family:Menlo,'DejaVu Sans Mono',consolas,'Courier New',monospace\"><span style=\"font-weight: bold\"> Non-trainable params: </span><span style=\"color: #00af00; text-decoration-color: #00af00\">0</span> (0.00 B)\n",
       "</pre>\n"
      ],
      "text/plain": [
       "\u001b[1m Non-trainable params: \u001b[0m\u001b[38;5;34m0\u001b[0m (0.00 B)\n"
      ]
     },
     "metadata": {},
     "output_type": "display_data"
    },
    {
     "data": {
      "text/html": [
       "<pre style=\"white-space:pre;overflow-x:auto;line-height:normal;font-family:Menlo,'DejaVu Sans Mono',consolas,'Courier New',monospace\"><span style=\"font-weight: bold\"> Optimizer params: </span><span style=\"color: #00af00; text-decoration-color: #00af00\">2</span> (12.00 B)\n",
       "</pre>\n"
      ],
      "text/plain": [
       "\u001b[1m Optimizer params: \u001b[0m\u001b[38;5;34m2\u001b[0m (12.00 B)\n"
      ]
     },
     "metadata": {},
     "output_type": "display_data"
    }
   ],
   "source": [
    "from tensorflow.keras import models, layers\n",
    "keras_model_1 = models.load_model(model_filepath_to_load)\n",
    "keras_model_1.summary()"
   ]
  },
  {
   "cell_type": "code",
   "execution_count": 21,
   "id": "3c1fbe73",
   "metadata": {},
   "outputs": [
    {
     "name": "stdout",
     "output_type": "stream",
     "text": [
      "\u001b[1m1/1\u001b[0m \u001b[32m━━━━━━━━━━━━━━━━━━━━\u001b[0m\u001b[37m\u001b[0m \u001b[1m0s\u001b[0m 116ms/step\n",
      "[[2.13153008e-03 6.14725403e-04 2.53626388e-02 5.07270455e-01\n",
      "  6.19474472e-03 4.22464490e-01 1.19020063e-02 1.95634030e-02\n",
      "  1.34554505e-03 3.15042282e-03]\n",
      " [1.03306469e-04 3.23111340e-02 1.34843843e-08 4.48175292e-08\n",
      "  2.89092583e-10 5.09633058e-10 1.94358947e-08 3.17591602e-13\n",
      "  9.67391074e-01 1.94445878e-04]\n",
      " [1.77374884e-01 1.71600711e-02 9.63192247e-03 6.24242937e-03\n",
      "  3.53841577e-03 1.01711275e-03 1.46964984e-03 4.02606645e-04\n",
      "  7.60607302e-01 2.25556362e-02]\n",
      " [6.24053001e-01 2.36110948e-02 1.28173590e-01 3.69234569e-02\n",
      "  3.26619148e-02 6.29985146e-03 6.68187579e-03 2.78528850e-03\n",
      "  1.28191590e-01 1.06183439e-02]\n",
      " [2.42260535e-06 4.30908358e-06 1.13619175e-02 6.92239404e-03\n",
      "  1.43375713e-02 2.03431438e-04 9.67165649e-01 5.71517546e-07\n",
      "  3.44071339e-07 1.49885966e-06]\n",
      " [1.57996581e-03 3.96380527e-03 4.97072525e-02 9.92200077e-02\n",
      "  3.44464965e-02 1.13144992e-02 7.95871437e-01 4.32350120e-04\n",
      "  1.11709989e-03 2.34712358e-03]\n",
      " [4.99131717e-03 2.37882942e-01 6.68722787e-04 1.17483381e-02\n",
      "  7.93417857e-05 2.46107904e-03 1.02931750e-03 5.97218052e-04\n",
      "  3.97916185e-03 7.36562490e-01]\n",
      " [6.20988430e-04 9.87012172e-04 6.31356314e-02 4.24954481e-02\n",
      "  1.17945023e-01 7.54682766e-03 7.65996933e-01 6.35119388e-04\n",
      "  1.10634341e-04 5.26321353e-04]\n",
      " [1.80985826e-05 3.23454486e-07 1.53893484e-02 5.86296856e-01\n",
      "  3.14954086e-03 3.88236970e-01 1.52229017e-03 5.37827658e-03\n",
      "  1.60774744e-06 6.73207205e-06]\n",
      " [2.16826244e-04 8.39470863e-01 1.36909659e-06 9.23828793e-06\n",
      "  6.17858333e-08 1.23582640e-06 1.88434115e-05 7.78352884e-08\n",
      "  8.85326590e-04 1.59396216e-01]]\n",
      "Macro F1-score on Keras Model Test set: 0.7778\n"
     ]
    },
    {
     "data": {
      "text/plain": [
       "0.7777777777777777"
      ]
     },
     "execution_count": 21,
     "metadata": {},
     "output_type": "execute_result"
    }
   ],
   "source": [
    "y_test_pred_probs = keras_model_1.predict(X_test_norm[:10])\n",
    "print(y_test_pred_probs)\n",
    "y_test_pred_classes = np.argmax(y_test_pred_probs, axis=1)\n",
    "\n",
    "evaluate_macro_f1(y_test_int_for_f1[:10], y_test_pred_classes, \"Keras Model Test\")"
   ]
  },
  {
   "cell_type": "code",
   "execution_count": null,
   "id": "de145a81",
   "metadata": {},
   "outputs": [
    {
     "name": "stdout",
     "output_type": "stream",
     "text": [
      "[[2.13152844e-03 6.14725543e-04 2.53626224e-02 5.07270426e-01\n",
      "  6.19474297e-03 4.22464602e-01 1.19020074e-02 1.95633781e-02\n",
      "  1.34554484e-03 3.15042156e-03]\n",
      " [1.03306304e-04 3.23112811e-02 1.34843453e-08 4.48174056e-08\n",
      "  2.89091385e-10 5.09630681e-10 1.94359048e-08 3.17589341e-13\n",
      "  9.67390888e-01 1.94446197e-04]\n",
      " [1.77374932e-01 1.71600755e-02 9.63192979e-03 6.24243629e-03\n",
      "  3.53842026e-03 1.01711485e-03 1.46965088e-03 4.02607623e-04\n",
      "  7.60607173e-01 2.25556598e-02]\n",
      " [6.24053080e-01 2.36111097e-02 1.28173441e-01 3.69234138e-02\n",
      "  3.26618888e-02 6.29983984e-03 6.68186811e-03 2.78528541e-03\n",
      "  1.28191725e-01 1.06183487e-02]\n",
      " [2.42260888e-06 4.30909673e-06 1.13619363e-02 6.92240567e-03\n",
      "  1.43376003e-02 2.03431801e-04 9.67165480e-01 5.71518245e-07\n",
      "  3.44071926e-07 1.49886212e-06]\n",
      " [1.57996684e-03 3.96380678e-03 4.97072374e-02 9.92199864e-02\n",
      "  3.44465135e-02 1.13145006e-02 7.95871411e-01 4.32350272e-04\n",
      "  1.11710079e-03 2.34712599e-03]\n",
      " [4.99131949e-03 2.37883156e-01 6.68723198e-04 1.17483485e-02\n",
      "  7.93418879e-05 2.46108084e-03 1.02931885e-03 5.97217878e-04\n",
      "  3.97916262e-03 7.36562330e-01]\n",
      " [6.20991185e-04 9.87014644e-04 6.31357119e-02 4.24955220e-02\n",
      "  1.17945384e-01 7.54684409e-03 7.65996453e-01 6.35122012e-04\n",
      "  1.10634653e-04 5.26323092e-04]\n",
      " [1.80986018e-05 3.23454773e-07 1.53893656e-02 5.86296533e-01\n",
      "  3.14954347e-03 3.88237224e-01 1.52229149e-03 5.37828093e-03\n",
      "  1.60774946e-06 6.73208178e-06]\n",
      " [2.16826032e-04 8.39470876e-01 1.36909255e-06 9.23826974e-06\n",
      "  6.17856737e-08 1.23582287e-06 1.88433673e-05 7.78350978e-08\n",
      "  8.85325477e-04 1.59396147e-01]]\n",
      "Macro F1-score on Custom Model Test set: 0.7778\n"
     ]
    },
    {
     "data": {
      "text/plain": [
       "0.7777777777777777"
      ]
     },
     "execution_count": 22,
     "metadata": {},
     "output_type": "execute_result"
    }
   ],
   "source": [
    "\n",
    "\n",
    "y_test_pred_probs_custom = custom_cnn_1.predict(X_test_norm[:10])\n",
    "print(y_test_pred_probs_custom)\n",
    "y_test_pred_classes_custom = np.argmax(y_test_pred_probs_custom, axis=1)\n",
    "\n",
    "evaluate_macro_f1(y_test_int_for_f1[:10], y_test_pred_classes_custom, \"Custom Model Test\")"
   ]
  }
 ],
 "metadata": {
  "kernelspec": {
   "display_name": ".venv",
   "language": "python",
   "name": "python3"
  },
  "language_info": {
   "codemirror_mode": {
    "name": "ipython",
    "version": 3
   },
   "file_extension": ".py",
   "mimetype": "text/x-python",
   "name": "python",
   "nbconvert_exporter": "python",
   "pygments_lexer": "ipython3",
   "version": "3.12.3"
  }
 },
 "nbformat": 4,
 "nbformat_minor": 5
}
