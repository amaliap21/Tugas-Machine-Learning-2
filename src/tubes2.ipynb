{
 "cells": [
  {
   "cell_type": "code",
   "execution_count": 3,
   "id": "cd284c36",
   "metadata": {},
   "outputs": [],
   "source": [
    "# Core Libraries\n",
    "import pandas as pd\n",
    "import numpy as np\n",
    "\n",
    "# TensorFlow / Keras Layers\n",
    "import tensorflow as tf\n",
    "from tensorflow.keras.models import Sequential as kerasSeq\n",
    "from tensorflow.keras.layers import (\n",
    "    Input,\n",
    "    TextVectorization,\n",
    "    Embedding,\n",
    "    Dropout,\n",
    "    SimpleRNN,\n",
    "    Dense\n",
    ")\n",
    "\n",
    "# Label preprocessing\n",
    "from sklearn.preprocessing import LabelEncoder\n",
    "from tensorflow.keras.utils import to_categorical"
   ]
  },
  {
   "cell_type": "markdown",
   "id": "be35106f",
   "metadata": {},
   "source": [
    "## RNN"
   ]
  },
  {
   "cell_type": "markdown",
   "id": "836d545d",
   "metadata": {},
   "source": [
    "### Load Data"
   ]
  },
  {
   "cell_type": "code",
   "execution_count": 4,
   "id": "69ca7bdb",
   "metadata": {},
   "outputs": [],
   "source": [
    "df = pd.read_csv('../dataset/train.csv', sep=',')"
   ]
  },
  {
   "cell_type": "code",
   "execution_count": 5,
   "id": "796c8bfc",
   "metadata": {},
   "outputs": [
    {
     "data": {
      "text/plain": [
       "array(['Nikmati cicilan 0% hingga 12 bulan untuk pemesanan tiket pesawat air asia dengan kartu kredit bni!',\n",
       "       'Kue-kue yang disajikan bikin saya bernostalgia. Semuanya tipikal kue zaman dulu, baik dari penampilan maupun rasa. Kuenya enak dan harganya juga murah.',\n",
       "       'Ibu pernah bekerja di grab indonesia',\n",
       "       'Paling suka banget makan siang di sini ayam sama sambalnya enak banget harganya luar biasa hemat, rasa ayamnya meresap sampai ketulangnya, es lidah buayanya juga segar bikin adem perut setelah makan sambal yang pedas, pelayannya sigap dan ramah, yang aku suka di tempat kasir ada tulisan 10% disumbangkan untuk beramal, buat makan jadi lebih enak ke perut',\n",
       "       'Pelayanan bus DAMRI sangat baik'], dtype=object)"
      ]
     },
     "execution_count": 5,
     "metadata": {},
     "output_type": "execute_result"
    }
   ],
   "source": [
    "x_train = np.array(df['text'])\n",
    "y_train = np.array(df['label'])\n",
    "x_train[:5]"
   ]
  },
  {
   "cell_type": "markdown",
   "id": "82f84f9f",
   "metadata": {},
   "source": [
    "### Keras Model"
   ]
  },
  {
   "cell_type": "code",
   "execution_count": 6,
   "id": "a5be8ae5",
   "metadata": {},
   "outputs": [
    {
     "name": "stderr",
     "output_type": "stream",
     "text": [
      "2025-05-28 21:06:40.821283: E external/local_xla/xla/stream_executor/cuda/cuda_platform.cc:51] failed call to cuInit: INTERNAL: CUDA error: Failed call to cuInit: UNKNOWN ERROR (303)\n"
     ]
    }
   ],
   "source": [
    "# Parameters\n",
    "max_tokens = 1000     # vocab size\n",
    "output_sequence_length = 100  # max length of padded sequences\n",
    "vectorizer = TextVectorization(\n",
    "    max_tokens=max_tokens,\n",
    "    output_mode='int',\n",
    "    output_sequence_length=output_sequence_length\n",
    ")\n",
    "vectorizer.adapt(x_train)"
   ]
  },
  {
   "cell_type": "code",
   "execution_count": 54,
   "id": "0c63e9f8",
   "metadata": {},
   "outputs": [
    {
     "data": {
      "text/html": [
       "<pre style=\"white-space:pre;overflow-x:auto;line-height:normal;font-family:Menlo,'DejaVu Sans Mono',consolas,'Courier New',monospace\"><span style=\"font-weight: bold\">Model: \"sequential_6\"</span>\n",
       "</pre>\n"
      ],
      "text/plain": [
       "\u001b[1mModel: \"sequential_6\"\u001b[0m\n"
      ]
     },
     "metadata": {},
     "output_type": "display_data"
    },
    {
     "data": {
      "text/html": [
       "<pre style=\"white-space:pre;overflow-x:auto;line-height:normal;font-family:Menlo,'DejaVu Sans Mono',consolas,'Courier New',monospace\">┏━━━━━━━━━━━━━━━━━━━━━━━━━━━━━━━━━┳━━━━━━━━━━━━━━━━━━━━━━━━┳━━━━━━━━━━━━━━━┓\n",
       "┃<span style=\"font-weight: bold\"> Layer (type)                    </span>┃<span style=\"font-weight: bold\"> Output Shape           </span>┃<span style=\"font-weight: bold\">       Param # </span>┃\n",
       "┡━━━━━━━━━━━━━━━━━━━━━━━━━━━━━━━━━╇━━━━━━━━━━━━━━━━━━━━━━━━╇━━━━━━━━━━━━━━━┩\n",
       "│ text_vectorization_2            │ (<span style=\"color: #00d7ff; text-decoration-color: #00d7ff\">None</span>, <span style=\"color: #00af00; text-decoration-color: #00af00\">100</span>)            │             <span style=\"color: #00af00; text-decoration-color: #00af00\">0</span> │\n",
       "│ (<span style=\"color: #0087ff; text-decoration-color: #0087ff\">TextVectorization</span>)             │                        │               │\n",
       "├─────────────────────────────────┼────────────────────────┼───────────────┤\n",
       "│ embedding_7 (<span style=\"color: #0087ff; text-decoration-color: #0087ff\">Embedding</span>)         │ (<span style=\"color: #00d7ff; text-decoration-color: #00d7ff\">None</span>, <span style=\"color: #00af00; text-decoration-color: #00af00\">100</span>, <span style=\"color: #00af00; text-decoration-color: #00af00\">64</span>)        │        <span style=\"color: #00af00; text-decoration-color: #00af00\">64,000</span> │\n",
       "├─────────────────────────────────┼────────────────────────┼───────────────┤\n",
       "│ dropout_6 (<span style=\"color: #0087ff; text-decoration-color: #0087ff\">Dropout</span>)             │ (<span style=\"color: #00d7ff; text-decoration-color: #00d7ff\">None</span>, <span style=\"color: #00af00; text-decoration-color: #00af00\">100</span>, <span style=\"color: #00af00; text-decoration-color: #00af00\">64</span>)        │             <span style=\"color: #00af00; text-decoration-color: #00af00\">0</span> │\n",
       "├─────────────────────────────────┼────────────────────────┼───────────────┤\n",
       "│ simple_rnn_12 (<span style=\"color: #0087ff; text-decoration-color: #0087ff\">SimpleRNN</span>)       │ (<span style=\"color: #00d7ff; text-decoration-color: #00d7ff\">None</span>, <span style=\"color: #00af00; text-decoration-color: #00af00\">64</span>)             │         <span style=\"color: #00af00; text-decoration-color: #00af00\">8,256</span> │\n",
       "├─────────────────────────────────┼────────────────────────┼───────────────┤\n",
       "│ dense_6 (<span style=\"color: #0087ff; text-decoration-color: #0087ff\">Dense</span>)                 │ (<span style=\"color: #00d7ff; text-decoration-color: #00d7ff\">None</span>, <span style=\"color: #00af00; text-decoration-color: #00af00\">3</span>)              │           <span style=\"color: #00af00; text-decoration-color: #00af00\">195</span> │\n",
       "└─────────────────────────────────┴────────────────────────┴───────────────┘\n",
       "</pre>\n"
      ],
      "text/plain": [
       "┏━━━━━━━━━━━━━━━━━━━━━━━━━━━━━━━━━┳━━━━━━━━━━━━━━━━━━━━━━━━┳━━━━━━━━━━━━━━━┓\n",
       "┃\u001b[1m \u001b[0m\u001b[1mLayer (type)                   \u001b[0m\u001b[1m \u001b[0m┃\u001b[1m \u001b[0m\u001b[1mOutput Shape          \u001b[0m\u001b[1m \u001b[0m┃\u001b[1m \u001b[0m\u001b[1m      Param #\u001b[0m\u001b[1m \u001b[0m┃\n",
       "┡━━━━━━━━━━━━━━━━━━━━━━━━━━━━━━━━━╇━━━━━━━━━━━━━━━━━━━━━━━━╇━━━━━━━━━━━━━━━┩\n",
       "│ text_vectorization_2            │ (\u001b[38;5;45mNone\u001b[0m, \u001b[38;5;34m100\u001b[0m)            │             \u001b[38;5;34m0\u001b[0m │\n",
       "│ (\u001b[38;5;33mTextVectorization\u001b[0m)             │                        │               │\n",
       "├─────────────────────────────────┼────────────────────────┼───────────────┤\n",
       "│ embedding_7 (\u001b[38;5;33mEmbedding\u001b[0m)         │ (\u001b[38;5;45mNone\u001b[0m, \u001b[38;5;34m100\u001b[0m, \u001b[38;5;34m64\u001b[0m)        │        \u001b[38;5;34m64,000\u001b[0m │\n",
       "├─────────────────────────────────┼────────────────────────┼───────────────┤\n",
       "│ dropout_6 (\u001b[38;5;33mDropout\u001b[0m)             │ (\u001b[38;5;45mNone\u001b[0m, \u001b[38;5;34m100\u001b[0m, \u001b[38;5;34m64\u001b[0m)        │             \u001b[38;5;34m0\u001b[0m │\n",
       "├─────────────────────────────────┼────────────────────────┼───────────────┤\n",
       "│ simple_rnn_12 (\u001b[38;5;33mSimpleRNN\u001b[0m)       │ (\u001b[38;5;45mNone\u001b[0m, \u001b[38;5;34m64\u001b[0m)             │         \u001b[38;5;34m8,256\u001b[0m │\n",
       "├─────────────────────────────────┼────────────────────────┼───────────────┤\n",
       "│ dense_6 (\u001b[38;5;33mDense\u001b[0m)                 │ (\u001b[38;5;45mNone\u001b[0m, \u001b[38;5;34m3\u001b[0m)              │           \u001b[38;5;34m195\u001b[0m │\n",
       "└─────────────────────────────────┴────────────────────────┴───────────────┘\n"
      ]
     },
     "metadata": {},
     "output_type": "display_data"
    },
    {
     "data": {
      "text/html": [
       "<pre style=\"white-space:pre;overflow-x:auto;line-height:normal;font-family:Menlo,'DejaVu Sans Mono',consolas,'Courier New',monospace\"><span style=\"font-weight: bold\"> Total params: </span><span style=\"color: #00af00; text-decoration-color: #00af00\">72,451</span> (283.01 KB)\n",
       "</pre>\n"
      ],
      "text/plain": [
       "\u001b[1m Total params: \u001b[0m\u001b[38;5;34m72,451\u001b[0m (283.01 KB)\n"
      ]
     },
     "metadata": {},
     "output_type": "display_data"
    },
    {
     "data": {
      "text/html": [
       "<pre style=\"white-space:pre;overflow-x:auto;line-height:normal;font-family:Menlo,'DejaVu Sans Mono',consolas,'Courier New',monospace\"><span style=\"font-weight: bold\"> Trainable params: </span><span style=\"color: #00af00; text-decoration-color: #00af00\">72,451</span> (283.01 KB)\n",
       "</pre>\n"
      ],
      "text/plain": [
       "\u001b[1m Trainable params: \u001b[0m\u001b[38;5;34m72,451\u001b[0m (283.01 KB)\n"
      ]
     },
     "metadata": {},
     "output_type": "display_data"
    },
    {
     "data": {
      "text/html": [
       "<pre style=\"white-space:pre;overflow-x:auto;line-height:normal;font-family:Menlo,'DejaVu Sans Mono',consolas,'Courier New',monospace\"><span style=\"font-weight: bold\"> Non-trainable params: </span><span style=\"color: #00af00; text-decoration-color: #00af00\">0</span> (0.00 B)\n",
       "</pre>\n"
      ],
      "text/plain": [
       "\u001b[1m Non-trainable params: \u001b[0m\u001b[38;5;34m0\u001b[0m (0.00 B)\n"
      ]
     },
     "metadata": {},
     "output_type": "display_data"
    }
   ],
   "source": [
    "model = kerasSeq([\n",
    "    Input(shape=(1,), dtype=tf.string), \n",
    "    vectorizer,                          \n",
    "    Embedding(input_dim=max_tokens, output_dim=64),\n",
    "    Dropout(0.3),  \n",
    "    SimpleRNN(64),                      \n",
    "    Dense(3, activation='softmax')       \n",
    "])\n",
    "model.compile(loss='categorical_crossentropy', optimizer='adam', metrics=['accuracy'])\n",
    "model.summary()"
   ]
  },
  {
   "cell_type": "code",
   "execution_count": 55,
   "id": "d57fdce9",
   "metadata": {},
   "outputs": [
    {
     "data": {
      "text/html": [
       "<pre style=\"white-space:pre;overflow-x:auto;line-height:normal;font-family:Menlo,'DejaVu Sans Mono',consolas,'Courier New',monospace\"><span style=\"font-weight: bold\">Model: \"sequential_7\"</span>\n",
       "</pre>\n"
      ],
      "text/plain": [
       "\u001b[1mModel: \"sequential_7\"\u001b[0m\n"
      ]
     },
     "metadata": {},
     "output_type": "display_data"
    },
    {
     "data": {
      "text/html": [
       "<pre style=\"white-space:pre;overflow-x:auto;line-height:normal;font-family:Menlo,'DejaVu Sans Mono',consolas,'Courier New',monospace\">┏━━━━━━━━━━━━━━━━━━━━━━━━━━━━━━━━━┳━━━━━━━━━━━━━━━━━━━━━━━━┳━━━━━━━━━━━━━━━┓\n",
       "┃<span style=\"font-weight: bold\"> Layer (type)                    </span>┃<span style=\"font-weight: bold\"> Output Shape           </span>┃<span style=\"font-weight: bold\">       Param # </span>┃\n",
       "┡━━━━━━━━━━━━━━━━━━━━━━━━━━━━━━━━━╇━━━━━━━━━━━━━━━━━━━━━━━━╇━━━━━━━━━━━━━━━┩\n",
       "│ text_vectorization_2            │ (<span style=\"color: #00d7ff; text-decoration-color: #00d7ff\">None</span>, <span style=\"color: #00af00; text-decoration-color: #00af00\">100</span>)            │             <span style=\"color: #00af00; text-decoration-color: #00af00\">0</span> │\n",
       "│ (<span style=\"color: #0087ff; text-decoration-color: #0087ff\">TextVectorization</span>)             │                        │               │\n",
       "├─────────────────────────────────┼────────────────────────┼───────────────┤\n",
       "│ embedding_8 (<span style=\"color: #0087ff; text-decoration-color: #0087ff\">Embedding</span>)         │ (<span style=\"color: #00d7ff; text-decoration-color: #00d7ff\">None</span>, <span style=\"color: #00af00; text-decoration-color: #00af00\">100</span>, <span style=\"color: #00af00; text-decoration-color: #00af00\">64</span>)        │        <span style=\"color: #00af00; text-decoration-color: #00af00\">64,000</span> │\n",
       "├─────────────────────────────────┼────────────────────────┼───────────────┤\n",
       "│ dropout_7 (<span style=\"color: #0087ff; text-decoration-color: #0087ff\">Dropout</span>)             │ (<span style=\"color: #00d7ff; text-decoration-color: #00d7ff\">None</span>, <span style=\"color: #00af00; text-decoration-color: #00af00\">100</span>, <span style=\"color: #00af00; text-decoration-color: #00af00\">64</span>)        │             <span style=\"color: #00af00; text-decoration-color: #00af00\">0</span> │\n",
       "├─────────────────────────────────┼────────────────────────┼───────────────┤\n",
       "│ simple_rnn_13 (<span style=\"color: #0087ff; text-decoration-color: #0087ff\">SimpleRNN</span>)       │ (<span style=\"color: #00d7ff; text-decoration-color: #00d7ff\">None</span>, <span style=\"color: #00af00; text-decoration-color: #00af00\">100</span>, <span style=\"color: #00af00; text-decoration-color: #00af00\">64</span>)        │         <span style=\"color: #00af00; text-decoration-color: #00af00\">8,256</span> │\n",
       "├─────────────────────────────────┼────────────────────────┼───────────────┤\n",
       "│ simple_rnn_14 (<span style=\"color: #0087ff; text-decoration-color: #0087ff\">SimpleRNN</span>)       │ (<span style=\"color: #00d7ff; text-decoration-color: #00d7ff\">None</span>, <span style=\"color: #00af00; text-decoration-color: #00af00\">64</span>)             │         <span style=\"color: #00af00; text-decoration-color: #00af00\">8,256</span> │\n",
       "├─────────────────────────────────┼────────────────────────┼───────────────┤\n",
       "│ dense_7 (<span style=\"color: #0087ff; text-decoration-color: #0087ff\">Dense</span>)                 │ (<span style=\"color: #00d7ff; text-decoration-color: #00d7ff\">None</span>, <span style=\"color: #00af00; text-decoration-color: #00af00\">3</span>)              │           <span style=\"color: #00af00; text-decoration-color: #00af00\">195</span> │\n",
       "└─────────────────────────────────┴────────────────────────┴───────────────┘\n",
       "</pre>\n"
      ],
      "text/plain": [
       "┏━━━━━━━━━━━━━━━━━━━━━━━━━━━━━━━━━┳━━━━━━━━━━━━━━━━━━━━━━━━┳━━━━━━━━━━━━━━━┓\n",
       "┃\u001b[1m \u001b[0m\u001b[1mLayer (type)                   \u001b[0m\u001b[1m \u001b[0m┃\u001b[1m \u001b[0m\u001b[1mOutput Shape          \u001b[0m\u001b[1m \u001b[0m┃\u001b[1m \u001b[0m\u001b[1m      Param #\u001b[0m\u001b[1m \u001b[0m┃\n",
       "┡━━━━━━━━━━━━━━━━━━━━━━━━━━━━━━━━━╇━━━━━━━━━━━━━━━━━━━━━━━━╇━━━━━━━━━━━━━━━┩\n",
       "│ text_vectorization_2            │ (\u001b[38;5;45mNone\u001b[0m, \u001b[38;5;34m100\u001b[0m)            │             \u001b[38;5;34m0\u001b[0m │\n",
       "│ (\u001b[38;5;33mTextVectorization\u001b[0m)             │                        │               │\n",
       "├─────────────────────────────────┼────────────────────────┼───────────────┤\n",
       "│ embedding_8 (\u001b[38;5;33mEmbedding\u001b[0m)         │ (\u001b[38;5;45mNone\u001b[0m, \u001b[38;5;34m100\u001b[0m, \u001b[38;5;34m64\u001b[0m)        │        \u001b[38;5;34m64,000\u001b[0m │\n",
       "├─────────────────────────────────┼────────────────────────┼───────────────┤\n",
       "│ dropout_7 (\u001b[38;5;33mDropout\u001b[0m)             │ (\u001b[38;5;45mNone\u001b[0m, \u001b[38;5;34m100\u001b[0m, \u001b[38;5;34m64\u001b[0m)        │             \u001b[38;5;34m0\u001b[0m │\n",
       "├─────────────────────────────────┼────────────────────────┼───────────────┤\n",
       "│ simple_rnn_13 (\u001b[38;5;33mSimpleRNN\u001b[0m)       │ (\u001b[38;5;45mNone\u001b[0m, \u001b[38;5;34m100\u001b[0m, \u001b[38;5;34m64\u001b[0m)        │         \u001b[38;5;34m8,256\u001b[0m │\n",
       "├─────────────────────────────────┼────────────────────────┼───────────────┤\n",
       "│ simple_rnn_14 (\u001b[38;5;33mSimpleRNN\u001b[0m)       │ (\u001b[38;5;45mNone\u001b[0m, \u001b[38;5;34m64\u001b[0m)             │         \u001b[38;5;34m8,256\u001b[0m │\n",
       "├─────────────────────────────────┼────────────────────────┼───────────────┤\n",
       "│ dense_7 (\u001b[38;5;33mDense\u001b[0m)                 │ (\u001b[38;5;45mNone\u001b[0m, \u001b[38;5;34m3\u001b[0m)              │           \u001b[38;5;34m195\u001b[0m │\n",
       "└─────────────────────────────────┴────────────────────────┴───────────────┘\n"
      ]
     },
     "metadata": {},
     "output_type": "display_data"
    },
    {
     "data": {
      "text/html": [
       "<pre style=\"white-space:pre;overflow-x:auto;line-height:normal;font-family:Menlo,'DejaVu Sans Mono',consolas,'Courier New',monospace\"><span style=\"font-weight: bold\"> Total params: </span><span style=\"color: #00af00; text-decoration-color: #00af00\">80,707</span> (315.26 KB)\n",
       "</pre>\n"
      ],
      "text/plain": [
       "\u001b[1m Total params: \u001b[0m\u001b[38;5;34m80,707\u001b[0m (315.26 KB)\n"
      ]
     },
     "metadata": {},
     "output_type": "display_data"
    },
    {
     "data": {
      "text/html": [
       "<pre style=\"white-space:pre;overflow-x:auto;line-height:normal;font-family:Menlo,'DejaVu Sans Mono',consolas,'Courier New',monospace\"><span style=\"font-weight: bold\"> Trainable params: </span><span style=\"color: #00af00; text-decoration-color: #00af00\">80,707</span> (315.26 KB)\n",
       "</pre>\n"
      ],
      "text/plain": [
       "\u001b[1m Trainable params: \u001b[0m\u001b[38;5;34m80,707\u001b[0m (315.26 KB)\n"
      ]
     },
     "metadata": {},
     "output_type": "display_data"
    },
    {
     "data": {
      "text/html": [
       "<pre style=\"white-space:pre;overflow-x:auto;line-height:normal;font-family:Menlo,'DejaVu Sans Mono',consolas,'Courier New',monospace\"><span style=\"font-weight: bold\"> Non-trainable params: </span><span style=\"color: #00af00; text-decoration-color: #00af00\">0</span> (0.00 B)\n",
       "</pre>\n"
      ],
      "text/plain": [
       "\u001b[1m Non-trainable params: \u001b[0m\u001b[38;5;34m0\u001b[0m (0.00 B)\n"
      ]
     },
     "metadata": {},
     "output_type": "display_data"
    }
   ],
   "source": [
    "model2 = kerasSeq([\n",
    "    Input(shape=(1,), dtype=tf.string),          \n",
    "    vectorizer,                                  \n",
    "    Embedding(input_dim=max_tokens, output_dim=64),\n",
    "    Dropout(0.3),\n",
    "    SimpleRNN(64, return_sequences=True),        \n",
    "    SimpleRNN(64),                               \n",
    "    Dense(3, activation='softmax')               \n",
    "])\n",
    "\n",
    "model2.compile(loss='categorical_crossentropy', optimizer='adam', metrics=['accuracy'])\n",
    "model2.summary()"
   ]
  },
  {
   "cell_type": "code",
   "execution_count": 56,
   "id": "068c5a32",
   "metadata": {},
   "outputs": [
    {
     "data": {
      "text/html": [
       "<pre style=\"white-space:pre;overflow-x:auto;line-height:normal;font-family:Menlo,'DejaVu Sans Mono',consolas,'Courier New',monospace\"><span style=\"font-weight: bold\">Model: \"sequential_8\"</span>\n",
       "</pre>\n"
      ],
      "text/plain": [
       "\u001b[1mModel: \"sequential_8\"\u001b[0m\n"
      ]
     },
     "metadata": {},
     "output_type": "display_data"
    },
    {
     "data": {
      "text/html": [
       "<pre style=\"white-space:pre;overflow-x:auto;line-height:normal;font-family:Menlo,'DejaVu Sans Mono',consolas,'Courier New',monospace\">┏━━━━━━━━━━━━━━━━━━━━━━━━━━━━━━━━━┳━━━━━━━━━━━━━━━━━━━━━━━━┳━━━━━━━━━━━━━━━┓\n",
       "┃<span style=\"font-weight: bold\"> Layer (type)                    </span>┃<span style=\"font-weight: bold\"> Output Shape           </span>┃<span style=\"font-weight: bold\">       Param # </span>┃\n",
       "┡━━━━━━━━━━━━━━━━━━━━━━━━━━━━━━━━━╇━━━━━━━━━━━━━━━━━━━━━━━━╇━━━━━━━━━━━━━━━┩\n",
       "│ text_vectorization_2            │ (<span style=\"color: #00d7ff; text-decoration-color: #00d7ff\">None</span>, <span style=\"color: #00af00; text-decoration-color: #00af00\">100</span>)            │             <span style=\"color: #00af00; text-decoration-color: #00af00\">0</span> │\n",
       "│ (<span style=\"color: #0087ff; text-decoration-color: #0087ff\">TextVectorization</span>)             │                        │               │\n",
       "├─────────────────────────────────┼────────────────────────┼───────────────┤\n",
       "│ embedding_9 (<span style=\"color: #0087ff; text-decoration-color: #0087ff\">Embedding</span>)         │ (<span style=\"color: #00d7ff; text-decoration-color: #00d7ff\">None</span>, <span style=\"color: #00af00; text-decoration-color: #00af00\">100</span>, <span style=\"color: #00af00; text-decoration-color: #00af00\">64</span>)        │        <span style=\"color: #00af00; text-decoration-color: #00af00\">64,000</span> │\n",
       "├─────────────────────────────────┼────────────────────────┼───────────────┤\n",
       "│ dropout_8 (<span style=\"color: #0087ff; text-decoration-color: #0087ff\">Dropout</span>)             │ (<span style=\"color: #00d7ff; text-decoration-color: #00d7ff\">None</span>, <span style=\"color: #00af00; text-decoration-color: #00af00\">100</span>, <span style=\"color: #00af00; text-decoration-color: #00af00\">64</span>)        │             <span style=\"color: #00af00; text-decoration-color: #00af00\">0</span> │\n",
       "├─────────────────────────────────┼────────────────────────┼───────────────┤\n",
       "│ simple_rnn_15 (<span style=\"color: #0087ff; text-decoration-color: #0087ff\">SimpleRNN</span>)       │ (<span style=\"color: #00d7ff; text-decoration-color: #00d7ff\">None</span>, <span style=\"color: #00af00; text-decoration-color: #00af00\">100</span>, <span style=\"color: #00af00; text-decoration-color: #00af00\">64</span>)        │         <span style=\"color: #00af00; text-decoration-color: #00af00\">8,256</span> │\n",
       "├─────────────────────────────────┼────────────────────────┼───────────────┤\n",
       "│ simple_rnn_16 (<span style=\"color: #0087ff; text-decoration-color: #0087ff\">SimpleRNN</span>)       │ (<span style=\"color: #00d7ff; text-decoration-color: #00d7ff\">None</span>, <span style=\"color: #00af00; text-decoration-color: #00af00\">100</span>, <span style=\"color: #00af00; text-decoration-color: #00af00\">64</span>)        │         <span style=\"color: #00af00; text-decoration-color: #00af00\">8,256</span> │\n",
       "├─────────────────────────────────┼────────────────────────┼───────────────┤\n",
       "│ simple_rnn_17 (<span style=\"color: #0087ff; text-decoration-color: #0087ff\">SimpleRNN</span>)       │ (<span style=\"color: #00d7ff; text-decoration-color: #00d7ff\">None</span>, <span style=\"color: #00af00; text-decoration-color: #00af00\">64</span>)             │         <span style=\"color: #00af00; text-decoration-color: #00af00\">8,256</span> │\n",
       "├─────────────────────────────────┼────────────────────────┼───────────────┤\n",
       "│ dense_8 (<span style=\"color: #0087ff; text-decoration-color: #0087ff\">Dense</span>)                 │ (<span style=\"color: #00d7ff; text-decoration-color: #00d7ff\">None</span>, <span style=\"color: #00af00; text-decoration-color: #00af00\">3</span>)              │           <span style=\"color: #00af00; text-decoration-color: #00af00\">195</span> │\n",
       "└─────────────────────────────────┴────────────────────────┴───────────────┘\n",
       "</pre>\n"
      ],
      "text/plain": [
       "┏━━━━━━━━━━━━━━━━━━━━━━━━━━━━━━━━━┳━━━━━━━━━━━━━━━━━━━━━━━━┳━━━━━━━━━━━━━━━┓\n",
       "┃\u001b[1m \u001b[0m\u001b[1mLayer (type)                   \u001b[0m\u001b[1m \u001b[0m┃\u001b[1m \u001b[0m\u001b[1mOutput Shape          \u001b[0m\u001b[1m \u001b[0m┃\u001b[1m \u001b[0m\u001b[1m      Param #\u001b[0m\u001b[1m \u001b[0m┃\n",
       "┡━━━━━━━━━━━━━━━━━━━━━━━━━━━━━━━━━╇━━━━━━━━━━━━━━━━━━━━━━━━╇━━━━━━━━━━━━━━━┩\n",
       "│ text_vectorization_2            │ (\u001b[38;5;45mNone\u001b[0m, \u001b[38;5;34m100\u001b[0m)            │             \u001b[38;5;34m0\u001b[0m │\n",
       "│ (\u001b[38;5;33mTextVectorization\u001b[0m)             │                        │               │\n",
       "├─────────────────────────────────┼────────────────────────┼───────────────┤\n",
       "│ embedding_9 (\u001b[38;5;33mEmbedding\u001b[0m)         │ (\u001b[38;5;45mNone\u001b[0m, \u001b[38;5;34m100\u001b[0m, \u001b[38;5;34m64\u001b[0m)        │        \u001b[38;5;34m64,000\u001b[0m │\n",
       "├─────────────────────────────────┼────────────────────────┼───────────────┤\n",
       "│ dropout_8 (\u001b[38;5;33mDropout\u001b[0m)             │ (\u001b[38;5;45mNone\u001b[0m, \u001b[38;5;34m100\u001b[0m, \u001b[38;5;34m64\u001b[0m)        │             \u001b[38;5;34m0\u001b[0m │\n",
       "├─────────────────────────────────┼────────────────────────┼───────────────┤\n",
       "│ simple_rnn_15 (\u001b[38;5;33mSimpleRNN\u001b[0m)       │ (\u001b[38;5;45mNone\u001b[0m, \u001b[38;5;34m100\u001b[0m, \u001b[38;5;34m64\u001b[0m)        │         \u001b[38;5;34m8,256\u001b[0m │\n",
       "├─────────────────────────────────┼────────────────────────┼───────────────┤\n",
       "│ simple_rnn_16 (\u001b[38;5;33mSimpleRNN\u001b[0m)       │ (\u001b[38;5;45mNone\u001b[0m, \u001b[38;5;34m100\u001b[0m, \u001b[38;5;34m64\u001b[0m)        │         \u001b[38;5;34m8,256\u001b[0m │\n",
       "├─────────────────────────────────┼────────────────────────┼───────────────┤\n",
       "│ simple_rnn_17 (\u001b[38;5;33mSimpleRNN\u001b[0m)       │ (\u001b[38;5;45mNone\u001b[0m, \u001b[38;5;34m64\u001b[0m)             │         \u001b[38;5;34m8,256\u001b[0m │\n",
       "├─────────────────────────────────┼────────────────────────┼───────────────┤\n",
       "│ dense_8 (\u001b[38;5;33mDense\u001b[0m)                 │ (\u001b[38;5;45mNone\u001b[0m, \u001b[38;5;34m3\u001b[0m)              │           \u001b[38;5;34m195\u001b[0m │\n",
       "└─────────────────────────────────┴────────────────────────┴───────────────┘\n"
      ]
     },
     "metadata": {},
     "output_type": "display_data"
    },
    {
     "data": {
      "text/html": [
       "<pre style=\"white-space:pre;overflow-x:auto;line-height:normal;font-family:Menlo,'DejaVu Sans Mono',consolas,'Courier New',monospace\"><span style=\"font-weight: bold\"> Total params: </span><span style=\"color: #00af00; text-decoration-color: #00af00\">88,963</span> (347.51 KB)\n",
       "</pre>\n"
      ],
      "text/plain": [
       "\u001b[1m Total params: \u001b[0m\u001b[38;5;34m88,963\u001b[0m (347.51 KB)\n"
      ]
     },
     "metadata": {},
     "output_type": "display_data"
    },
    {
     "data": {
      "text/html": [
       "<pre style=\"white-space:pre;overflow-x:auto;line-height:normal;font-family:Menlo,'DejaVu Sans Mono',consolas,'Courier New',monospace\"><span style=\"font-weight: bold\"> Trainable params: </span><span style=\"color: #00af00; text-decoration-color: #00af00\">88,963</span> (347.51 KB)\n",
       "</pre>\n"
      ],
      "text/plain": [
       "\u001b[1m Trainable params: \u001b[0m\u001b[38;5;34m88,963\u001b[0m (347.51 KB)\n"
      ]
     },
     "metadata": {},
     "output_type": "display_data"
    },
    {
     "data": {
      "text/html": [
       "<pre style=\"white-space:pre;overflow-x:auto;line-height:normal;font-family:Menlo,'DejaVu Sans Mono',consolas,'Courier New',monospace\"><span style=\"font-weight: bold\"> Non-trainable params: </span><span style=\"color: #00af00; text-decoration-color: #00af00\">0</span> (0.00 B)\n",
       "</pre>\n"
      ],
      "text/plain": [
       "\u001b[1m Non-trainable params: \u001b[0m\u001b[38;5;34m0\u001b[0m (0.00 B)\n"
      ]
     },
     "metadata": {},
     "output_type": "display_data"
    }
   ],
   "source": [
    "model3 = kerasSeq([\n",
    "    Input(shape=(1,), dtype=tf.string),          \n",
    "    vectorizer,                                  \n",
    "    Embedding(input_dim=max_tokens, output_dim=64),\n",
    "    Dropout(0.3),\n",
    "    SimpleRNN(64, return_sequences=True),        \n",
    "    SimpleRNN(64, return_sequences=True),\n",
    "    SimpleRNN(64),                               \n",
    "    Dense(3, activation='softmax')               \n",
    "])\n",
    "\n",
    "model3.compile(loss='categorical_crossentropy', optimizer='adam', metrics=['accuracy'])\n",
    "model3.summary()"
   ]
  },
  {
   "cell_type": "code",
   "execution_count": 57,
   "id": "535944c7",
   "metadata": {},
   "outputs": [
    {
     "data": {
      "text/plain": [
       "<tf.Tensor: shape=(500,), dtype=string, numpy=\n",
       "array([b'Nikmati cicilan 0% hingga 12 bulan untuk pemesanan tiket pesawat air asia dengan kartu kredit bni!',\n",
       "       b'Kue-kue yang disajikan bikin saya bernostalgia. Semuanya tipikal kue zaman dulu, baik dari penampilan maupun rasa. Kuenya enak dan harganya juga murah.',\n",
       "       b'Ibu pernah bekerja di grab indonesia',\n",
       "       b'Paling suka banget makan siang di sini ayam sama sambalnya enak banget harganya luar biasa hemat, rasa ayamnya meresap sampai ketulangnya, es lidah buayanya juga segar bikin adem perut setelah makan sambal yang pedas, pelayannya sigap dan ramah, yang aku suka di tempat kasir ada tulisan 10% disumbangkan untuk beramal, buat makan jadi lebih enak ke perut',\n",
       "       b'Pelayanan bus DAMRI sangat baik',\n",
       "       b'Mau bikin postingan yang isinya mengedukasi customers gojek.',\n",
       "       b'Ratusan rumah di medan terendam banjir',\n",
       "       b'Barangnya lumayan, cuma yang saya heran xiaomi redmi note 2 ini tombol onnya memang agak rusak? Terus baterai memang cepat low bat juragan?',\n",
       "       b'Sulit sekali mempercayai orang yang sudah pernah berkhianat',\n",
       "       b'Lokasi di gombel dengan pemandangan semarang, datanglah malam karena lampu kota akan terlihat, makanan enak steak dan teh hangat menu wajib di sini, ambil spot di luar karena udara dingin dan sejuk',\n",
       "       b'Waktu itu ke sini pesan nasi goreng dan kentang goreng, nasi gorengnya semua suka. Kentang gorengnya enak banget, dan presentasinya bagus. Keluarga bilang kopinya enak. Hal yang sangat baik di sini adalah tempatnya luas dan yang di luar bisa lihat pemandangan dusun bambu, tapi pelayanannya tidak cepat sehingga saya harus bertanya beberapa kali tentang pesanan saya. Harganya cukup mahal, namun karena makanannya enak semua jadi terbayarkan. Tidak perlu pikir dua kali jika mau ke tempat ini lagi.',\n",
       "       b'Nasi goreng thailand di harga 35 ribu, polos, hanya ada suir ayam sedikit. Seafoodnya tidak ada.',\n",
       "       b'Seperti yang kita tahu, brownies yang asli dari amerika adalah kue bantat yang memang berwarna cokelat. Toko amanda mengkreasikan brownies dengan memasaknya secara mengukus. Brownies kukus ini sama sekali nggak banget. Teksturnya malah sama dengan bolu biasa. Jadi menurut saya, ini bukan brownies.',\n",
       "       b'Jika datang ke restoran ini sangat cocok pada sore dan malam hari, membawa pasangan untuk menikmati makan malam yang romantis dan pemandangan yang sangat menakjubkan',\n",
       "       b'Pengalaman pertama cukup mengesankan karena cukup kaget ternyata setelah selesai memesan makanan, salah satu staf memberikan daun pisang ke meja saya bukan piring atau sendok, jadi jika makan di sini bersiaplah untuk makan menggunakan tangan karena kita akan merasakan sensasi yang unik ditambah alas makannya daun pisang.',\n",
       "       b'Salah satu area kuliner yang cukup menggugah selera. Namun jadi bingung juga milihnya. Akhirnya ku coba kerak telur dan mie kocok sembari mendengarkan pertunjukan musik dengan lagu-lagu nostalgia barat. Cukup direkomendasikan.',\n",
       "       b'Untuk memastikannya ibu bisa datang ke kantor cab bank mandiri tersebut pada hari dan jam kerja untuk penukaran uang.',\n",
       "       b'Naik kereta jayabaya malang - jakarta berhenti di gubeng, tiket 35 ribu plus asuransi 6 ribu via traveloka',\n",
       "       b'Dpr memberi apresiasi atas keikutsertaan perempuan pada pilkada 2018.',\n",
       "       b'Saya datang untuk makan malam bersama keluarga. Ini pertama kali saya ke sini. Kondisi tidak terlalu ramai. Untuk interior, agak kotor menurut saya. Adanya remah-remah bekas makanan di lantai dan meja, sepertinya tidak dibersihkan secara sempurna. Untuk rasa makanan, standar, tidak terlalu istimewa.',\n",
       "       b'Tolong bilang ke anggota dewan jangan lupa revisi perppu ormas dan ingatkan janjinya kalau perppu tidak direvisi, berbagai elemen masyarakat akan mengeluarkan sikap.',\n",
       "       b'Keripik singkong itu makanan ringan terenak dan tepat buat menemani waktu tugas',\n",
       "       b'Batagor dan siomay kingsley ini tidak mempunyai cabang di tempat lain. Makanannya enak, terutama batator dan siomay serta basonya dan tidak pakai pengawet. Dan jika ingin buat oleh-oleh ada paket yang bisa dibawa pulang. Dipertahankan lagi kualitasnya.',\n",
       "       b'Jangan pernah pesan melalui layanan ini ya teman-teman. Mengecewakan! Villa -nya kotor, semua peralatannya tidak layak pakai',\n",
       "       b'Pendaftaran mulai esok, kementerian kominfo buka beasiswa pelatihan digital untuk 1.000 orang',\n",
       "       b'Sebagai netijen yang baru april lalu piknik ke toba, hanya mau bilang bahwa benar banyak hal yang mengecewakan dari sistem pariwisata di sana. Parapat -nya kotor, susah cari akomodasi yang benar-benar bagus, agen transportasi tidak profesional, pokoknya tidak direkomendasikan pergi ke parapat.',\n",
       "       b'Kotor banget dan tidak di hiraukan oleh pelayan restoran. Mengecewakan sekali pelayanannya!',\n",
       "       b'Tempatnya menurut saya biasa saja, kurang bersih. Makanannya pun biasa saja.',\n",
       "       b'Untuk usaha yang dikeluarkan ke tempat ini hasilnya biasa-biasa saja. Yang mengecewakan adalah kualitas makanannya. Makanan hanya sekedar masak saja. Untuk kelas kuliner bandung yang enak-enak, ini mengecewakan. Ada karcis masuk per orang 10.000 dan mobil 15.000.',\n",
       "       b'Saya sekeluarga sedang cari tempat makan habis nonton. Kami bosan makan di resto / kafe di mal. Tiba-tiba terlihat resto di kanan jalan. Sudah lama kami tidak makan kari. Mampirlah kami ke resto yang tergolong kecil hanya 9 meja. Ternyata enak tempat dan makanannya.',\n",
       "       b'Kopi starbucks kenapa bisa enak banget sih',\n",
       "       b'Katanya di sana akan dibangun transmart, di sebelah bangunan itu.',\n",
       "       b'Sungguh pengalaman unik, makan di tengah sawah di antara padi yang hampir menguning. Dengan pilihan menu yang variatif, penyajian yang menarik dan menggugah selera.',\n",
       "       b'Makan bersama dengan para sistah beberapa waktu yang lalu, tempat nyaman, enak buat nongkrong, pelayanan bagus. Dah beberapa kali makan di sini.',\n",
       "       b'Tempat oleh-olehnya lengkap dan cukup nyaman, mudah dijangkau, harganya terjangkau, serta pelayanannya ramah',\n",
       "       b'Hai eviana, mohon maaf atas ketidaknyamanannya. Untuk kontak dari indosat dapat mengakses tautan ini: Silakan pengecekan ya. Terima kasih. Erf',\n",
       "       b'Menunya indomie sama roti bakar. Untuk tempat sama seperti cabang yang lainnya nyaman buat kumpul. ',\n",
       "       b'Sambal dengan daun serawung, tomat, dan cabe rawit. Rasa sambal ini yang membuat kota di garut yang namanya cibiuk jadi terkenal. Sambal ini bisa dinikmati dengan gurame goreng ataupun dengan ayam goreng. Rasanya sangat enak. Selain di lengkokng cibiuk juga memiliki banyak cabang',\n",
       "       b'Saya sudah konfirmasi ke pihak gramedia tapi dilempar-lempar tak ada kejelasan. Pihak gramed sampai spv di outlet tersebut saling lempar dan menyebut tidak ada promo. Kecewa dilempar-lempar begitu',\n",
       "       b'Selamat siang, jika ada hal lain yang bapak akan tanyakan dapat mention kami kembali. Terima kasih zan',\n",
       "       b'Menurut kami tempat ini biasa saja tidak ada atraksi atau pemandangan yang menarik dengan harga tiket 10000 / orang, kalau pemandangan gunung ya memang sudah seharusnya karena berada di daerah tinggi. Untuk wisata kuliner juga tidak terlalu banyak pilihan seperti tempat yang satu lagi.',\n",
       "       b'Saya sudah menjadi pelanggan madtari sejak tahun 2002, saat itu masih berupa warung tenda kecil yang sangat ramai malam hari. Beberapa tahun silam menempati bangunan yang permanen, sejak itu saya merasa kualitasnya agak menurun dibandingkan dengan saat di warung tenda. Yang jelas, harga naik cukup signifikan, dibandingkan warung serupa, mungkin lebih mahal.',\n",
       "       b'Komentar pertama sudah pasti venue yang kece, pelayanan ramah sekali, dan untuk menu yang dipilih adalah ikan bakar dan sop buntutnya yang aku kasih nilai 4 tapi buat es buah itu aku kasih nilai 5 ya!',\n",
       "       b'Di restoran ini makanan yang disediakan banyak sekali dan harga cukup terjangkau, suasana yang enak dan nyaman',\n",
       "       b'Aku iri melihat kalian yang bisa menemukan kebahagiaan.',\n",
       "       b'Habis beli pulsa mau daftar paket internet gagal terus dan suruh mengulang terus di 363 dan tetap tidak bisa',\n",
       "       b'Tempatnya sangat bagus apa lagi malam hari dihias dengan lampu-lampu, sangat romantis. Cocok buat pasangan. Jauh dari keramaian. Udaranya sangat dingin. Kita dapat melihat keindahan kota dari atas.',\n",
       "       b'Makanannya enak enak dan eye catching untuk di foto, suka. Tetapi minumannya juga enak dan tempatnya nyaman untuk kumpul kumpul dengan teman.',\n",
       "       b'Ini kali kedua kunjungan saya. Semua makanan yang saya coba enak-enak, dan tempatnya masih semenawan dulu. Tidak pernah menyesal makan di sini.',\n",
       "       b'Makanannya smoked chicken dan cheese sandwich, minumannya jus. Lumayan pas dan enak. Tempatnya memang enak buat yang ingin suasana hening santai jauh dari kebisingan.',\n",
       "       b'Obat tanpa resep sebaiknya dihindari ibu menyusui',\n",
       "       b'Semakin banyak tahu, semakin cemburu.',\n",
       "       b'Karyawan malas untuk apa kasih cuti. Bisnis lagi jelek malah mau foya foya. Mikir dong!',\n",
       "       b'Tempat yang berdampingan dengan air sungai dan rimbunnya pepohonan dan makanan yang lezat membuat betah dan cocok untuk beristirahat, berbagai jajanan juga tersedia di tempat ini, hawanya juga sejuk.',\n",
       "       b'Tolong ya minimal, demi kemudahan nasabah agar di dalam stasiun tigaraksa diberikan mesin atm bni',\n",
       "       b'Kupat tahu gempol merupakan salah satu kupat tahu legendaris. Tempatnya tidak terlalu besar tetapi cukup mencolok dengan warna merahnya di pertigaan pasar gempol. Porsinya pas banget untuk menghilangkan lapar. Ciri khas dari kupat tahu ini adalah tahunya yang lembut dan kenyal serta kuah kacangnya pas di lidah, dipadu dengan lontong, tauge dan kerupuk merah. Enak sekali.',\n",
       "       b'Wah sama seperti saya ini mas barusan, paket freedom l saya belum habis tapi sudah dibebankan tarif internet perlu sampai pulsa sekitar 40 ribu saya disedot perampok',\n",
       "       b'Rumah makan ini memang tergolong murah bila dibandingkan dengan rumah makan sejenisnya. Namun makanan yang disediakan biasa saja tidak ada yang istimewa. Sebagian besar makanannya hanya ikan atau ayam dengan cara masak digoreng. Bisa dibilang menu makanannya tidak ada variasi sama sekali.',\n",
       "       b'Kamar mandi jauh dari layak, untuk cuci tangan tidak disediakan sabun.',\n",
       "       b'Suasananya cocok bagi semua orang, baik anda yang ingin menyendiri, bersama keluarga, maupun dengan teman-teman dekat bertukar cerita',\n",
       "       b'Bakso favorit kami sekeluarga. Rasanya gurih dan super enak. Ditemani dengan es jeruk dan kerupuk putih. Super yummy deh. Harga sangat terjangkau. Lokasi masuk gang kecil tapi mudah ditemukan karena banyak orang yang tahu di lokasinya. ',\n",
       "       b'Tidak enak makan di restoran, tidak bisa minta kuah opor ayam dikit seperti di warteg.',\n",
       "       b'Meningkatnya presentase peminat ride sharing membuat toyota nekad menggelontorkan uang hingga $1 miliar pada grab demi menyelamatkan bisnis otomotifnya.',\n",
       "       b'Pemandangan kota bandung yang indah dapat disaksikan dari sierra kafe lounge. Ada dua pilihan tempat, bisa dalam ruangan maupun di luar. Tempat yang romantis cocok untuk berduaan dan cocok juga buat kumpul bersama teman-teman sambil melepas lelah, karena udaranya sejuk dan menyegarkan. Makanan yang disediakan juga lezat dan banyak pilihan. Ada masakan indonesia, asia, bahkan eropa / makanan barat.',\n",
       "       b'Rumah itu memiliki pagar besar berwarna hitam.',\n",
       "       b'Restoran unik, di mana tidak disediakan piring, untuk makan menggunakan alas daun pisang. Makanan cukup enak.',\n",
       "       b'Ayah saya merupakan seorang pegawai net tv',\n",
       "       b'Indomie banyak ditemukan di warung-warung terdekat.',\n",
       "       b'Sulit sekali mengerti orang yang merasa selalu benar',\n",
       "       b'Mimpi disuruh mencari coklat sama gordon ramsay eh malah kecampur sama kuah indomie',\n",
       "       b'Iya sih mi sedap isinya lebih banyak, tapi soal rasa kalah jauh sama yang lain',\n",
       "       b'Wah enak banget, sate yang nikmat bumbu yang pas, rasa yang pas dan daging yang segar, hingga menghasilkan sate yang benar benar mantap. Pelayanan yang ramah. ',\n",
       "       b'Waktu datang ke sini sedang bukan musim stroberi jadi pada kecil-kecil dan tidak bagus. Jadi cuma ambil seadanya saja. __sad__.',\n",
       "       b'Peresmian pengoperasian kereta api bandara oleh presiden ri dengan simbolis, penekanan tombol sirine yang menyuarakan genta, didampingi oleh menteri perhubungan, menteri bumn, gubernur banten, dirjen perkeretaapian kemhub, dirut ap2, dirut pt kan, dan dirut railink',\n",
       "       b'Masakan restoran ini rata-rata tidak enak.',\n",
       "       b'Cocok untuk makan malam romantis dengan pasangan ketika merayakan momen berdua, makanannya enak dan berkelas.',\n",
       "       b'Batagornya enak, mi nya enak. Ada aneka makanan yang bisa dicicip di satu tempat, apalagi sekarang tokonya sudah direnovasi jadi bagus. Ada musala. Area oleh-oleh banyak pilihan. ',\n",
       "       b'Baru pakai berapa hari langsung hang, power bank tidak bisa di pake apa-apa. Harus bawa ke tempat servis.',\n",
       "       b'Restoran yang memiliki pemandangan yang bagus, jika ke sini pada malam hari carilah tempat duduk di luar ruangan, maka kalian akan melihat disetiap meja lampu lampu yang menyala, makanan yang kami pesan adalah sup krim dan coklat hangat sangatlah enak dan lezat pas dengan cuacanya yang dingin',\n",
       "       b'Tempatnya sangat romantis dan nyaman. Dengan suasana yang sangat nyaman dan pelayanan yang baik. Makanan sangat enak dengan harga yang reasonable. Sangat ingin kembali ke sini menikmati suasana sorenya. Secara keseluruhan baik sangat bagus!',\n",
       "       b'Makanan court dengan banyak penyewa, banyak pilihan. Cocok untuk anak muda yang ingin nongkrong berkelompok sambil makan - minum sesuai selera masing-masing. Parkir sangat luas.',\n",
       "       b'Terima kasih bang atas apresiasinya. Semoga beliau segera menemui wakil kami, korban phk sepihak freeport. ',\n",
       "       b'Hampir lebih 5 kali saya ke sini. Dim sumnya yahud dan harganya terjangkau banget. Tempatnya asyik dan sangat nyaman. Pelayannya ramah walaupun kita cuma berdua dan makan tidak banyak jenisnya. Pokoknya rekomendasi banget, bila mencari dim sum atau shabu di balikpapan.',\n",
       "       b'Tempatnya menyenangkan, santai, dan sangat mudah ditemui, karena bersebelahan dengan swalayan lotte mart',\n",
       "       b'KIPP menerima banyak laporan terkait adanya pelanggaran pada pilkada 2018.',\n",
       "       b'Sudah beberapa kali ke sini, makanan lumayan enak, saung-saungnya juga membuat suasana makan dan bersantai jadi nikmat, ditambah dengan suara sungai kecil menambah suasana jadi bertambah alami. Dianjurkan datang ke sini malam hari karena lebih indah.',\n",
       "       b'Makanan di sini sangat enak. Cocok untuk pertemuan kantor atau bersama keluarga besar harga terjangkau',\n",
       "       b'DHL sedang membuka lowongan pekerjaan untuk customer service',\n",
       "       b'Saya coba yang di dekat kantor walikota. Saya pesan bakso malang super komplet. Rasanya enak. Kenyang. Harga juga masuk akal.',\n",
       "       b'Tempat makan di luar yang luas menyajikan segala makanan dari tradisional hingga yang termodern, dari harga yang murah meriah hingga yang mahal. Penataan dekorasi yang apik akan membuat betah. ',\n",
       "       b'Yang wajib banget dicoba di resto ini ada jus stroberi tanpa susu atau gula. Asli enak banget. Kayaknya 1 gelas saja kurang deh.',\n",
       "       b'Resto makanan barat dengan harga kaki lima, ditambah pemandangan alam yang indah, suasana yang romantis, asal jangan hujan, karena di teras dibiarkan terbuka. Resto favorit keluarga saya.',\n",
       "       b'Ayam gorengnya enak di sini. Cocok buat yang habis perjalanan jauh. Saya ke sini pulang dari luar kota, jadi makannya pas lapar gitu deh. Bikin perut kenyang, makanannya enak terus pelayanannya mantap. Kasirnya cantik cantik',\n",
       "       b'Paket saya juga sampai sekarang tidak sampai sampai sudah 5 hari statusnya dengan pengiriman courier jakarta, parah sekarang jne',\n",
       "       b'Jual ayam bakar taliwang tapi ayam yang disajikan seperti karet dan tidak memuaskan, dan rasanya hambar, sambalnya juga alakadarnya. Dari keseluruhan sangat mengecewakan dan saya tidak akan ke dua kalinya ke sana lagi',\n",
       "       b'Jalan. Sukajadi kalau malam suka ada warga yang buang sampah di pinggir jalan! orang-orang kayak gitu harus dimusnahkan',\n",
       "       b'Paling favorit di resto ini adalah bubur 3 rasa. 1 mangkok besar bisa untuk berdua sama suami. Lalu banyak menunya untuk tambahan makan sama bubur. Harga dan rasa sesuai. Dan yang pasti teman makan bubur adalah teh hangat hmmm. Enak!',\n",
       "       b'Indosat adalah penyebab gue marah tiap hari',\n",
       "       b'Restoran ini merupakan tempat yang cocok untuk makan malam bersama pasangan dan keluarga dengan makanan yang cukup enak dan pemandangan yang bagus. Suasananya juga baik dengan hiasan klasik dari pojok sampai pintu masuknya. ',\n",
       "       b'Konsep restoran biasa saja, tapi harga minumannya kok mahal banget. Dimurahinlah dikit meskipun di daerah wisata hehe. Jadi mikir berkali-kali buat beli.',\n",
       "       b'Susunya segar dengan sayuran yang mantap dan rasa kuah yang enak dan pelayanan yang sangat super ramah.',\n",
       "       b'Menyesal nih gue kasih tahu loe, Farrel',\n",
       "       b'Kesel lah, mana parkir tidak benar, bikin jalanan sempit doang lagi, giliran mobilnya baret misuh-misuh menuduh sembarang orang',\n",
       "       b'Resto ini saya rekomendasikan untuk anda singgahi jika anda ingin bersantap sambil menikmati sunset. Karena letaknya yang berada di dataran tinggi, anda dapat menikmati keindahan alam pegunungan dan suasana kota. Untuk makananannya sendiri ada beberapa cita rasa, dari masakan daerah, indonesia hingga internasional.',\n",
       "       b'Sangat melelahkan, balik pergi ke kampus sore sekali ditambah kerja kelompok yang tidak ada abisnya, deadline tugas juga mepet sekali',\n",
       "       b'Bali punya banyak pulau yang bisa dikunjungi.',\n",
       "       b'Saya makan pagi di restoran lantai 18 ini dan kebetulan saya mendapatkan tempat duduk di luar atau balkon. Bantalan tempat duduknya terlihat banyak noda kotoran. Angin sangat kencang bertiup sehingga makan pagi tidak nyaman. Saya sarankan apabila anda makan di restoran ini, pilih tempat duduk di dalam untuk kenyamanan.',\n",
       "       b'Perluasan kilang minyak pt pertamina serap 20 ribu lebih tenaga kerja',\n",
       "       b'Restoran di padma hotel termasuk salah satu tempat yang nyaman dan indah dengan pemandangan bukit, lembah dan pepohonan yang hijau. Sehingga bisa menikmati makanan dengan suasana yang berbeda. Makanan di sini cukup bervariasi dan banyak pilihan tidak beda jauh dengan restoran-restoran lain di bandung, tapi di sini ada menu pilihan tradisional yang membuat anda bisa merasakan khas makanan yang berbeda sambil menikmati alam.',\n",
       "       b'Sekarang bukan zaman janji. Km rakyat sudah bosan alias muak',\n",
       "       b'Aku dan suami biasanya menginap di jimbaran saat berkunjung ke bali',\n",
       "       b'Bingung deh, selalu saja tidak bisa ikutan nongkrong karena memang ramai sekali. Yasudahlah ya sepertinya memang lebih enak aku drive thru saja berhubung di pusat kota posisinya sumpah ini mcd paling ramai. ',\n",
       "       b'Penakut tapi soksikan tidak takut, diajak nonton film horror oke ayok, selesai menonton tidak berani ke kamar mandi',\n",
       "       b'Kualitas lounge amat mengecewakan. Jauh dari eskalator, melalui lorong-lorong kotor. Desain sempit memanjang.',\n",
       "       b'Meski tidak pernah mendapatkan gubug tepi sawah, namun pesona dan kenyamanan makan di gubug lain tak menjadi nilai minus bagi tempat makan ini. Banyak gubug yang nyaman untuk dijadikan tempat bersantap, kualitas makanannya pun super dan enak. Coba ikan bakar daun, wangi, pedas dan sedap sekali.',\n",
       "       b'Kalau urusan makanan yang enak-enak sepertinya inilah rajanya. Bukan hanya makanan yang mantap tapi suasananya pun semakin hangat apalagi bersama keluarga atau teman. Lagu-lagunya juga menghibur banget.',\n",
       "       b'Sudah beberapa kali makan di tempat ini. Menu merupakan menu khas sunda, terutama tersedia menu yang sudah jarang ditemukan di rumah makan lainnya di bandung. Rasa makanan, sungguh lezat',\n",
       "       b'Rakyat sudah jenuh mendengar ocehan politikus jika baik kenapa tidak katakan baik. Kenapa semua yang dilakukan pemerintah. Semuanya tidak ada baiknya.',\n",
       "       b'Menunggu mal istana plaza buka di pagi hari, sebaiknya mampir di mangkok ayam di pelataran lantai 1 istana plaza, berbagai macam menu pilihan indonesia food, chinese food tersedia. Sebaiknya dicoba mi ayam rica sungguh sangat puas sembari minum kopi di pagi hari.',\n",
       "       b'Makan di sini cukup nikmat karena menunya beragam, dari mulai menu indonesia, asia, hingga tiongkok. Sehingga bisa mencoba rasa yang beragam. Rasanya juga tidak kalah enak. Tempatnya cukup nyaman, pelayanannya pun cepat',\n",
       "       b'Makan di atas gunung degan pemandangan lampu kota kalau malam sangat indah. Makanannya juga enak harga standar seperti kafe yang lain.',\n",
       "       b'Sebenarnya agak lucu juga sih ke bandung, tapi kok makan pizza hut. Hanya karena lagi ingin pizza. Rasanya tidak berbeda dengan yang di Jakarta.',\n",
       "       b'Dulu suka banget makan di sini waktu sama di jakarta, baru tahu kalau di bandung juga ada. Tempatnya enak banget. Banyak pilihan suasana yang bisa dipilih, mau di luar, indoor, merokok atau ngge tidak, ada tempat buat segala jenis pengunjung. Makanannya juga enak sih. Ya pasta-pasta ala orang indonesia.',\n",
       "       b'Untuk apa kau sekolah tinggi-tinggi tapi ngomong macam anjing menggonggong.',\n",
       "       b'Bagus dan nyaman tempat, tempatnya rekomendasi banget buat makan malam. Datang sama pasangan dilayani sama mbak dela, dijelaskan detail dan ramah banget. Menunya variatif dan enak, pas datang saya sama pasangan nyobain menu lokal dan asingnya, keduanya sama-sama enak. Buat saran saja, jangan datang ke tempat ini, bisa-bisa malah bolak balik datang, hehehehe. Pemandangannya luar biasa.',\n",
       "       b'Buat yang suka manis, coba nasi ayam jamurnya. Kalau tidak suka, coba pilih nasi ikan asin. Yang terkenal satenya, disajikan di atas piring panas. Pilihan lain yang banyak dipesan adalah tahu goreng.',\n",
       "       b'Saya suka sekali makan di sini. Harganya tidak terlalu mahal dan rasanya enak. Yang paling saya suka jamur panggangnya. Banyak kejunya dan lembut. Tiap kali ke sini pasti order ini.',\n",
       "       b'Di restoran itu tersedia banyak pilihan makanan, mulai dari yang murah hingga yang mahal',\n",
       "       b'Tempat yang nyaman dan alami untuk membawa keluarga relaks suasana pedesaan alami. Mengenalkan anak pda alam',\n",
       "       b'Sudah seminggu ini pdam di daerah kami tidak mengalir, apa stok air pdam habis. Tanggung jawab dong',\n",
       "       b'Kerja dari pagi sampai pagi lagi itu cuma bakal menyiksa diri sendiri. Jadi tidak usah berlebihan kalau soal kerjaan.',\n",
       "       b'Rasa makanan tidak semewah harganya. Overpriced untuk pengunjung keluarga, grup teman atau bisnis.',\n",
       "       b'Kalau mampir ke sukabumi, jangan lupa nyicip bubur ayam hamid. Asli, enak banget, beda dengan bubur ayam di tempat lain. Suiran ayamnya lumayan banyak, bumbunya juga terasa banget, apalagi jika kita makannya ditambah sate ampela atau usus. Dijamin bakal ketagihan!',\n",
       "       b'Tolonglah pihak telkomsel di revisi harga-harga paket internetnya harganya selangit.',\n",
       "       b'Yang terhormat tolong dong respon pesan saya. Terima kasih',\n",
       "       b'Bukan hanya namanya saja swike waled. Rasanya sama enaknya dengan yang di desa waled cirebon kuahnya tauconya asinnya pas. Swieke gorengnya juga enak. Cuma harganya agak mahal dibanding swike di cirebon.',\n",
       "       b'Dapatkan hardisk dengan harga promo untuk setiap pemesanan jasa isi hardisk penuh 1 tb',\n",
       "       b'Restoran unik dengan menu nasi goreng yang unik pula. Nasi goreng disajikan dengan level kepedasan yang berbeda-beda. Anda penggemar pedas harus mencoba nasi goreng di sini. Selain itu, nasi goreng disajikan dengan berbagai resep seperti dengan ebi, kemangi, kecap manis, bumbu rahasia sampai dengan campuran kencur. Per porsi disajikan dengan takaran yang pas. Harga per porsinya mulai rp 13. 000 - rp 21. 000. Pelayanan sangat menyenangkan.',\n",
       "       b'Pakek telkomsel pengin marah terus hanya berbagi capture kurang dari 100 kb muteer terus berujung gagal. Tetapi kalau dipompakan bilangnya jaringan tidak bermasalah.',\n",
       "       b'Ditunggu saja, pasti dikasih. Biasa maksimal seminggu kok',\n",
       "       b'Enak, tempatnya bersih nyaman, dan makanan yang disajikan pun bervariasi. Selain itu tempatnya yang berada di kota menjadikan tempat istirahat orang-orang yang berbelanja dan pekerja kantoran. Harganya memang mahal tapi setara dengan rasanya',\n",
       "       b'Cari di bukalapak saja. Kalau kepepet, sementara bisa gunakan punya redmi 4a.',\n",
       "       b'Makannya lumayan, tapi ada pelayan yang agak jorok saja jadi kurang nyaman. Untuk makanan agak cepat ya agar tidak kelaparan konsumen. Masih banyak yang harus ditingkatkan.',\n",
       "       b'Padahal baru jam 4 sore di hari kamis. Saya dan teman saya mau coffe break. Saya lupa kami pesan minuman apa waktu itu, hanya yang saya ingat adalah pada saat pilih menu a, dibilang dengan pelayannya sudah habis. Lalu kami pilih menu b,. Eh sudah habis juga. Akhirnya terpaksa memilih menu lain. Cukup menyebalkan.',\n",
       "       b'Kalau di sini dagingnya lebih enak, bumbunya sih lebih berasa yang di sana, harganya juga tidak beda jauh.',\n",
       "       b'Tempat yang indah dan romantis dengan pemandangan kota bandung dengan kerlip lampunya yang mirip dengan ribuan cahaya lilin di malam hari serta hawa dingin pegunungan,. Apalagi hidangan yang lezat hangat dan penampilan yang sangat menggoda. Wah sangat sayang jika dilewatkan.',\n",
       "       b'Penasaran ke sini karena tiap melewati tol selalu melihat iklannya di jalan. Pas ke sana ternyata tempatnya cenderung biasa saja. Ke sana pas malam-malam plus hujan juga jadi agak becek.',\n",
       "       b'Resto ini cukup luas, suasana sangat menyenangkan, pengunjung dapat melihat pemandangan kota bandung. Menu makanan barat dan indonesian makanan. Harga sesuai kualitas dan pelayanan.',\n",
       "       b'Bogor akan dipimpin kembali oleh bima arya.',\n",
       "       b'Bulan januari saya sudah ke galeri indosat untuk registrasi kartu, kata mbaknya yang tas, sudah teregistrasi kok, tapi kemarin tidak bisa telepon dan sms karena diblokir belum registrasi. Maunya apa coba? Terima kasih atas layanannya yang excellent sekali.',\n",
       "       b'Saya mencoba suis butcher di selai di suis butcehr di stiabudhi, saya juga mencoba suis butcher di jalan. Riau. Saya lebih menyukai suasanan di suis butcher di setiabudi yang tidak terlalu ramai, dan enak tempatnya buat ngobrol. Makanannya saya suka tenderloin, salad, frencfries, dan tiramisunya. Harga dan rasa sebanding kok, so setimpal sekali pelayanannya juga lumayan cepat.',\n",
       "       b'Wifi di sini selalu eror, makanan dan minuman agak mahal, lumpiah goreng asin sekali, teh susu hanya sedikit enak, lama sekali untuk pesanan',\n",
       "       b'Mau ke hotel yang di mongkok hongkong, tidak ada! Bulan juni lalu, saya booked dan sudah bayar untuk 2 kamar. Tapi hotel tidak ditemukan.',\n",
       "       b'Daripada ribut-ribut soal barang flash sale mending main poker online.',\n",
       "       b'Roti Unyil, toko kue yang menyediakan berbagai macam roti / kue dengan ukuran kecil, sangat dikenal di Bogor dan Bandung.',\n",
       "       b'Ingin bantu kasih hubungan infonya, tapi kuota internet saya terbatas.',\n",
       "       b'Saya sependapat, acara tersebut harus dihilangkan, banyak acara yang tidak berguna. Orang-orang dalam acaranya pun bertingkah seperti orang tidak sekolah saja.',\n",
       "       b'Resto nostalgia yang wajib dikunjungi, tempat yang nyaman buat keluarga, parkir yang luas. Hidangannya hampir semua enak, terutama steak, saslick dan es krim.',\n",
       "       b'Ajak keluarga, kawan satu kantor, kawan jalan, pacar, kawan pacar, atau bahkan mantan pacar, buat suara award ini.',\n",
       "       b'Tempatnya menarik, dengan konsep yang sangat pabrik. Sayangnya hampir seluruh menunya non halal.',\n",
       "       b'Untuk orang jogja sih malas kembali ke sana 2 kali. Cukup sekali. Masuk harus bayar. Makanan mahal.',\n",
       "       b'Banyak keluarga saya yang bekerja sebagai pegawai negeri',\n",
       "       b'Kami makan malam di restoran itu dan pelayanannya cukup memuaskan. Tempatnya luas, ada yang berada di dalam ruangan, ada yang diteras. Makanan langsung dipilih dari meja saji di dalam restoran. Ada pilihan menu segar yang baru digoreng pada saat dipesan dan sebagian besar menu tradisional. Waktu tunggu tidak lama. Penyajian unik karena tidak menggunakan piring melainkan memakai daun.',\n",
       "       b'Kiriman agak terlambat 1 hari pakai kurir itu. Lebih responsif dong',\n",
       "       b'Ketika ingin menyantap variasi makanan, pilihannya selalu Hanamasa. Lokasi tempatnya cukup enak. Pilihan makanannya banyak, dari mulai makanan ringan, bakar-bakaran, rebusan hingga makanan penutup. Sangat tidak mengecewakan.',\n",
       "       b'Dapatkan voucher pulsa rp 25.000, - untuk dua orang yang beruntung setiap harinya hanya dengan retweet bniquotes',\n",
       "       b'Makan di resto mewah, harga tentu saja mahal, tapi rasanya payah, sungguh menjengkelkan.',\n",
       "       b'Gunanya shazam: Biar tahu lagu-lagu ajaib yang diputer sopir gocar',\n",
       "       b'Enaknya makan di redsdifo, baru kali ini dah saya suka banget makan ikan. Ikannya segar, enak, dan tidak ada bau amis lagi. Pokoknya ikan bawal enak. Dan kopi robusta susu mantap. Pokok. A ketagihan dah. Redsdipo jadi tempat favorit saya. Enak pokoknya mah.',\n",
       "       b'Ini kenapa sih astaga telkomsel maupun indihome dua-duanya sering bermasalah! Mahal doang woy!',\n",
       "       b'Saya pergi ke sini hanya untuk mencari sedikit hiburan di kala berlibur bersama keluarga. Saya hanya minum dan makan makanan kecil. Minuman di sini harganya murah banget dibandingkan dengan jakarta. ',\n",
       "       b'Tagihan indihome saya bulan oktober ini beda dengan bulan september. Jatuhnya lebih mahal. Kenapa bisa begitu? Janjinya waktu awal pasang tidak ada biaya lain dan biaya flat. Ini kok naik turun bagaimana? Konsisten dong',\n",
       "       b'Ini menyesal sekali makan indomie salted egg. Makannya tadi pagi jam 8, sampai sekarang after tastenya masih ada! Gaenak banget lagi ya allah',\n",
       "       b'Bakso yang unik. Bakso dengan jenis jenis isian yang berbeda. Ada yang isi keju, daging cincang pedas dan urat. Saya memilih cincang daging pedas ehmmmm rasanya sesuai dengan namanya. Harganya murah, tempat bersih.',\n",
       "       b'Bikin macet jalan saja nih orang',\n",
       "       b'Bni tingkatkan branding melalui stasiun bni city',\n",
       "       b'Sensasi makan dengan alas daun pisang, dengan enaknya cumi bakar dan tempe tepung yang gurih, serta sambal yang menggugah selera. Memang mantap',\n",
       "       b'Mie mewek terletak di jalan pajajaran. Dekat dengan area BEC, pusat penjualan gadget. Di sini kita bisa menikmati kuliner khas berupa makanan dengan cita rasa pedas. Mie nangis akan membuat kita sebagai penikmatnya benar-benar menangis, karena kepedesan sekaligus ketagihan untuk datang dan makan lagi. Mienya tebal dan kenyal. Enak.',\n",
       "       b'Dia memakan susu indomilk di dalam kulkas',\n",
       "       b'Kesal banget dari tadi jualan yakult tidak untung terus',\n",
       "       b'Ramayana kembali membuka cabangnya di samarinda',\n",
       "       b'Tempat ini terkenal banget di kalangan mahasiswa. Karena selain enak harganya juga termasuk murah kalau menurut saya. Top deh.',\n",
       "       b'Beragam macam karya seni yang ditampilkan di lantai dasar dan kedua sungguh menarik perhatian. Selain itu di halaman luar juga banyak karya seni yang bisa diamati. Pemandangan yang menyerukan mata, serta cuaca yang adem membuat tempat ini sangat disukai banyak orang.',\n",
       "       b'Gue enggak suka sama pelatih yang sekarang, strategi yang dibikinnya tidak bisa dipakai buat mengalahkan lawan.',\n",
       "       b'Ini adalah tempat makan untuk orang yang menunggu keluarganya yang sedang asyik berbelanja. Tetapi tidak untuk orang orang yang senang makanan yang enak. Di jakarta banyak sekali tempat makan yang jauh lebih enak dan harganya jauh lebih murah.',\n",
       "       b'Bila kamu selesai transaksi mengirim, pastikan cek kembali alamat di resi sebelum meninggalkan counter jne pondok timur ya',\n",
       "       b'Tendang sana tendang sini hajar sana hajar sini, ternyata masing-masing punya agenda tersembunyi! Menyebalkan!',\n",
       "       b'Kesal bukan karena mu. Tetapi persis dikalahkan pssm. Tidak enak hati tidak enak tidur tidak enak makan. Semua gara-gara pssm!',\n",
       "       b'Isi pulsa via atm bca tadi jam 17.48 sampai sekarang belum masuk, boleh tolong dicek? Terima kasih',\n",
       "       b'Senin pagi gue diisi dengan kegiatan wawancara, sebelum jalan ke lokasi gue harus memesan gojek dan suasana masih hujan.',\n",
       "       b'Tempat yang paling cocok untuk mencari makanan kalau budget terbatas tetapi memuaskan, di sini banyak sekali pilihannya dari mulai masakan khas dari daerah di indonesia sampai masakan modern.',\n",
       "       b'Saya lihat banyak pengguna indosat terkena pemotongan pulsa, kasihan.',\n",
       "       b'Tempat yang sangat alami, dengan menu yang variatif, dengan rasa yang pas. Saya suka dengan bandrek jagungnya,  jagung yang manis disajikan sangat hangat. Ada aneka jajanan tradisional yang sudah jarang ditemui.',\n",
       "       b'Bapak ini ngomongnya tidak masuk akal! Orang diculik kok malah memikirkan penculiknya. Teori dari mana itu?',\n",
       "       b'Tempatnya besar. Open 24 hari. Cocok buat ngemil. Tempat duduk sofanya nyaman. Sayang banyak mahasiswa yang mengerjakan tugas di sana, jadi jarang kosong tempatnya kalau malam. Hehehe',\n",
       "       b'Tidak untung saya ikut rombongan untuk pergi ke bali sangat membosankan',\n",
       "       b'Walaupun cukup berliku untuk sampai ke tempat ini tapi terbayarkan dengan suasana sepi, tenang dan juga suasana udara dataran tingginya, yang kebetulan saya biasanya kalau makan di luar pasti pas hari kerja karena biar tidak terlalu ramai tapi ya minusnya tidak ada lift musik. Untuk makanannya cukup enak dan keluarga saya pun cukup menikmatinya.',\n",
       "       b'Sangat cocok untuk bersantap bersama keluarga menikmati hidangan yang lezat sambil mengobrol melepas penat setelah seharian beraktivitas pokoknya terbaik deh',\n",
       "       b'Datang ke restoran ini tidak ada bosannya, apalagi di malam minggu kami sekeluarga sangat menyukai tempat ini karena ada live musiknya. Suasananya tidak berubah dari tahun ke tahun. Menu yang disajikan pun masih tetap sama, dari mulai menu eropa sampai menu khas indonesia tetap memikat. Porsinya juga tak kalah banyak.',\n",
       "       b'Kalau melihat muka orang ini bawaan emosi tingkat dewa',\n",
       "       b'Masakan india menurut ku tidak enak. Terlalu banyak rempah',\n",
       "       b'Kami sekeluarga ke tempat ini karena hari sudah larut malam dan tidak ada resto lain yang buka. Ternyata jam 10 malam pun tempat ini masih macet, parkir penuh dan tempat duduk di dalam resto penuh. Petugas yang tampak kelelahan melayani dengan masam. Ampun. Akhirnya makanan kami bawa ke hotel.',\n",
       "       b'Oh iya saya mau fitur cetak resi otomatis diperbaiki.',\n",
       "       b'Awal tahun ini bakti budaya djarum foundation bekerjasama dengan dan garin workshop',\n",
       "       b'Dengan membeli morinaga chil kid dan chil school senilai rp 500. 000, bunda akan mendapatkan voucher gopay rp 50. 000.',\n",
       "       b'Saat ini para wisatawan pecinta diving sangat kecewa dengan kondisi teluk ambon yang nampak indah namun sangat kotor',\n",
       "       b'Rekomendasi untuk makan siang ala indonesia, pilihan makanannya banyak sekali tinggal tunjuk saja. Terbanyak yang bentuk gorengan, misalnya empal, ayam goreng, tahu goreng dll. peralatan makan yang dipakai yang ala model zaman dulu, seperti piring seng, gelas seng, mengingatkan makan di zaman dahulu. Pelayanan cepat. Mantap',\n",
       "       b'Tempatnya nyaman, sangat windy tapi sejuk juga. Konsep tempatnya bagus, vip roomnya keren sekali. Instagramable banget deh tempatnya. Cocok untuk nongkrong-nongkrong bareng teman, keluarga, pacar. Makanannya juga not bad, dan harganya juga terjangkau. Mbak kasirnya waktu itu ramah sekali.',\n",
       "       b'Ini tua bangka sudah bau tanah kok tidak sadar-sadar ya. manusia terburuk yang paling busuk.',\n",
       "       b'Tak ada sunlight dan mama lemon, garnier men turbo oil control pun jadi buat cuci tangan setelah masak alias licin cuy setelah kena minyak.',\n",
       "       b'Batagor kingsley sangat lezat dan disukai oleh keluarga dan warga jakarta. Setiap kali pergi ke bandung, keluarga dan teman-teman selalu minta dibelikan batagor kingsley.',\n",
       "       b'Kopi yang paling enak di sini adalah kopi alpukat dan kopi pisang. Kopi bercampur alpukat tidak membuat rasa kopi ini memudar, sangat cocok di lidah saya sebagai pecinta kopi campuran. Jenis makanan yang disajikan pun lumayan enak, favorit saya adalah kentang gorengnya untuk harga terjangkau.',\n",
       "       b'Dia ketahuan bikin indomie goreng jumbo padahal kan kalau 1 itu tidak kenyang.',\n",
       "       b'Saat mengunjungi rumah makan ini karena diajak rekan bisnis saya. Saat saya menikmati mie ini terasa memiliki citarasa yang nikmat sekali. Sayang saat itu, mi saya terlalu asin. Sehingga mi yang seharusnya sangat nikmat tidak bisa saya rasakan. Untuk suasana tempat tergolong biasa-biasa saja. Untuk harga tergolong sangat mahal. 2 mangkok mie harganya rp. 95.000.',\n",
       "       b'Driver ini tidak mau pickup barang dari tadi siang. Mohon ditindaklanjuti.',\n",
       "       b'Pagi yang melelahkan rasanya ingin diam saja',\n",
       "       b'Bidang lo bukan di dunia politik oon!',\n",
       "       b'Penasaran ingin dicoba ayam yang cukup terkenal itu. Siang itu sepi, pesan ayam bakar. Ternyata ayam bakarnya pedas. Anak-anak tidak bisa makan. Harusnya pelayan menanyakan mau pedas atau tidak karena ada 2 pilihan. Kemudian saya minta 2 ayam bakar yang tidak pedas. Ampun! Ayamnya cuma seperti digoreng terus dilumuri kecap. Kami sudah hilang napsu makan.',\n",
       "       b'Awalnya ragu dengan kecepatan pelayanan di sini tapi lumayan lah, tepat waktu kok. aku lupa pesan jus apa sepertinya jus campuran begitu, oke sih. Dan makanannya juga ok. Ohya ini mereka kasi gratis es krim. Bisa dicoba tanya dengan pelayannya. Suka.',\n",
       "       b'Saya ke bandung baru kemarin baru kesampaian makan di sini. Kami makan di the valley suki. Kenyang, enak, pelayan ramah, dan pemandangannya keren kalau kita duduk dekat jendela. Ya dengan harga rp. 190.000, - / orang sudah termasuk pajak kita bisa makan sepuasnya, sistemnya seperti hanamasa tapi lebih asyik tempatnya.',\n",
       "       b'Bingung mau makan ke mana yang tempatnya asik, makanan enak dan harga terjangkau? Ke sini saja. Saya dan pasangan sangat menikmati. Pengunjung kebanyakan anak muda jadi ikutan merasa muda lagi.',\n",
       "       b'Dari segi letak / lokasi cukup mudah dicari. Bangunan dan isi bagian di dalamnya menarik, apalagi ada taman kecil di dalamnya yang diisi juga dengan gentong yang airnya dibiatkan mengalir terus. Membuat suasananya jadi tambah romantis dan menyenangkan. Menu yang disajikan lumayan variatif dan dari segi rasa lumayan enak.',\n",
       "       b'Menu sushi kurang banyak, kalau bisa ada menu sushi dengan porsi kecil 2 potong. Harusnya ada pelengkap, wasabi, cabe bubuk. Jadi sebenarnya kurang istimewa.',\n",
       "       b'Baru pertama kali saya makan di warung ini. Bukan konsep kafe atau resto tapi tampil dengan warung makan yang menyajikan makanan tradisional.',\n",
       "       b'Saya datang ke maxi s resto bersama keluarga, ternyata di sana ada pesta pernikahan pesta ulang tahun sehingga tempat jadi penuh sekali. Pelayanannya jadi tidak baik. Seharusnya kalau tempat memang penuh, pihak resto memberitahukan kepada tamu sebelum tamu memarkirkan kendaraan saat itu hujan deras, jadi jarak tempat parkir ke resto lumayan jauh. Kalau perlu ditutup sementara selama pesta berlangsung.',\n",
       "       b'Telkom hackathon merupakan sebuah program besutan telkom indonesia yang bertujuan untuk mewadahi para generasi muda yang memiliki keahlian di bidang teknologi informasi maupun pemrograman untuk mengembangkan perusahaan rintisan yang mereka miliki.',\n",
       "       b'Minumannya saya tidak ada yang suka. Ayam gorengnya biasa saja. Ada saus keju tapi saya tidak suka saus keju di sini. Tidak enak.',\n",
       "       b'Resto keluarga yang sangat direkomendasikan, pemandangan sekeliling resto yang sangat bagus, pondok-pondok yang nyaman, makanan yang disajikan juga lumayan enak, apalagi jika malam hari ini pemandangan resto sangat bagus',\n",
       "       b'Saya mampir ke restoran ini untuk makan malam karena kebetulan lewat dalam perjalanan menuju hotel saya menginap dan karena sudah kelaperan dan saya dan teman akhirnya memilih untuk mampir di restoran ini. Rasa makanannya biasa saja bahkan kami diharuskan membayar terlebih dahulu meskipun kami belum selesai makan hanya karena jam sudah mendekati waktu tutup.',\n",
       "       b'Kesan pertama menginap di sini, check in tidak bisa jam 2 siang karena yang menginap sebelumnya terlambat check out, tidak ada apa pun yang ditawarkan pihak staf saat kami harus selama satu jam menunggu kamar dibersihkan. Kemudian kami juga diberitahukan bahwa restoran tutup jam 5 sore sehingga jika ingin memesan makanan untuk makan malam harus sebelum jam 5 sore. Cukup menyebalkan.',\n",
       "       b'Menikmati kota bandung tanpa kuliner, kurang seru, kafe halaman, menyajikan makanan indonesia, gado gadonya enak, pisang goreng kejunya juga enak serta secangkir kopi sambil menunggu teman datang sangatlah menarik',\n",
       "       b'Setuju makin naik fase wajar kalau tiket naik. Tapi, harga dasar di saat fase penyisihan sudah kemahalan. Coba bandingkan harga menonton di malaysia, thailand.',\n",
       "       b'Saya dan isteri tergoda untuk mengunjungi restoran ini saat kami sekeluarga berkunjung ke pontianak minggu lalu, karena berdasarkan penilaian trip advisor abang kepiting merupakan restoran terpopuler di pontianak. Malam sekitar jam 7 saya dan isteri sudah sampai dan mendapati suasana restoran yang tidak terlalu ramai terisi sekitar 4 meja saja, karena kami hanya berdua ingin berbincang.',\n",
       "       b'Saya tiba di rumah makan ini pada saat menjelang jam makan siang. Awal saya tiba rumah makan ini hanya ada beberapa pengunjung yang sedang bersantap. Namun, ketika tiba jam makan siang rumah makan ini penuh dengan para warga kota makassar. Banyaknya warga kota makassar yang tiba untuk makan siang menggambarkan bahwa tempat ini merupakan rumah makan favorit di kota makassar.',\n",
       "       b'Tiket waterboom PIK jakarta dikabarkan naik',\n",
       "       b'Lokasi agak jauh dari kota bandung dan sekarang ada 2 gerbang pembayaran untuk bisa ke the peak dengan total 5000 rupiah. Ini seperti pemaksaan untuk pungutan liar karena anda tidak akan bisa ke the peak tanpa melewati kedua gerbang ini.',\n",
       "       b'Data lengkap, jangan percaya kpk ini bohong. Kasus ini di audit 10 tahun lalu dan sudah lengkap. Karena habis itu ada audit aliran dana dengan tujuan khusus. Kalau mau kan minta audit lagi. Sudahlah. Kasus century itu skandal melindungi elit tertentu.',\n",
       "       b'Sangat dianjurkan, masakan enak banget benar-benar! Kita duduk di tempat saung yang di bagian atas pas jam-jam matahari terbenam, makan malam ditemani sunset deh! Dan itu baguus banget.',\n",
       "       b'Rcti terlalu banyak iklan tidak jelas, sangat menggangu',\n",
       "       b'Baik, selain wisata wahana saya juga suka wisata kuliner. Sejak saya di bandung kuliner yang paling saya buru adalah siomay dan batagor. Mungkin kalau batagor saya sudah akrab dengan batagor kingsley yang rasanya melegenda. Untuk urusan siomay, rasanya tidak salah kalau traveler memanjakan perutnya di saung siomay ini. Seperti judulnya. Teksturnya lembut, bumbunya juga pas kena banget.',\n",
       "       b'Penyajian cukup cepat, pelayanan baik dan pastinya masakan enak. Untuk harga relatif sesuai dengan rasa masakannya.',\n",
       "       b'Mau marah sama indosat, sudah dua hari sinyal begini banget',\n",
       "       b'Sudah indosat bangkrut saja, di tmpt ku saja sinyal tb2 kdg hilang muncul hilang muncul, padahal daerah kota semarang',\n",
       "       b'Transaksi beli pulsa PLN pra bayar melalui mandiri mobile menjadi tidak efisien karena harus telepon 14000 untuk dapat tidak tokennya / tidak otomatis.',\n",
       "       b'Tidak mesti di ruang tertutup buat pertemuan, pertemuan di resto ini juga asik. Jangan lupa memesan nasi goreng dendeng sama teh tarik.',\n",
       "       b'Samsung galaxy s sudah diluncurkan semalam. Saya kecewa desainnya standar banget. Harapan saya cuma terwujud 70%. Percuma terbawa sampai mimpi.',\n",
       "       b'Sayang restorannya kotor. Lihat kecoa kecil di dekat piring-piring sayur bersih yang dipakai untuk menyajikan makanan. Dan ada kecoa kecil juga di tempat duduknya. Berharap kebersihan tempat diperbaiki.',\n",
       "       b'Iya harganya 120 ribu. Saya juga sudah cek tokopedia.',\n",
       "       b'Senang rasanya dapat mengakhiri perjalanan kita di bandung dengan kunjungan terakhir kita berhenti di the valley pada tanggal 2 november. Hari itu adalah acara dalam menrayakan hari perpisahan bersama teman kita yang baru akan pindah ke kantor baru. Menunya sangat bervariatif tetapi ribs langsung menjadi pilihan saya. Menurut saya, harganya sebanding dengan rasa makanan. Top.',\n",
       "       b'Kapal km fungka permata v terbakar, sedikitnya 13 tewas',\n",
       "       b'Somasi yang dilayangkan rohayani, seorang pecandu rokok, kepada pt gudang garam, tbk dan pt djarum belakangan memunculkan isu lain.',\n",
       "       b'Pakai kartu kredit bca tidak untung malah rugi besar',\n",
       "       b'Restoran ini bukan sekadar tempat makan biasa, tapi juga bisa dijadikan tempat wisata. Lokasinya sangat dingin, tempatnya juga bagus, nyaman, dengan pemandangan yang eye catching. Menu yang disediakan juga beragam dengan rasa yang enak. Tidak perlu menunggu lama dalam penyajian makanannya. Harga juga relatif terjangkau. Untuk tempat berfoto juga bagus.',\n",
       "       b'Lokasi mudah dijangkau, penataan restoran average, menu makanan lumayan variatif dan rasa masakannya enak, harga terjangkau',\n",
       "       b'Ya serba salah memang, macet mengeluh, tidak macet heran.',\n",
       "       b'Rumah makan ini terletak di jalan abdurahman saleh, tempatnya nyaman dan bersih, menu masakannya banyak pilihannya. Rasanya cukup enak dan harganya juga sepadan dengan rasa masakannya.',\n",
       "       b'Kadang mikir gimana ya rasanya jadi perempuan di gym. Banyak mas mas dan om om melihat. Pasti risih dan tidak nyaman.',\n",
       "       b'Kami datang makan ke restoran itu, mengajak keluarga kakak saya. Mereka semua sangat menyukai kualitas masakan di sini. Kami pesan udang goreng telor asin dan rasanya sangat enak dan melebihi kualitas resto di hotel bintang lima. Sangat direkomendasikan.',\n",
       "       b'Pelayanan solaria sungguh tidak memuaskan hampir di seluruh cabang yang ada di Jakarta. Tidak rekomendasi banget.',\n",
       "       b'Temanku melamar pekerjaan di tokopedia',\n",
       "       b'Bukan cuma bisnis keluarga. Tetapi menjaga kepentingan negara dan masyarakat tanpa membenturkannya dengan kepentingan global.',\n",
       "       b'Terletak di daerah perbukitan sehingga udara dan pemandangannya sangat nyaman, di samping itu terdapat berbagai pilihan menu makanan nusantara, steak maupun pasta juga ada.',\n",
       "       b'Baik, terima kasih atas jawaban yang begitu lengkap dan jelas ya',\n",
       "       b'Ayam gorengnya enak, terong gorengnya juga. Sayang mau coba jengkol gorengnya sudah habis. Oh ya jus kefonfongnya juga segar.',\n",
       "       b'Senin pagi memang selalu tidak bersahabat, mulai dari pakai jilbab berantakan, jalanan macet, transjakarta arah senayan ramainya astaghfirullah, absen telat lewat jam 8, ga ikut doa pagi.',\n",
       "       b'Cemburu itu rasanya tidak enak. Cemburu itu makan hati. Cemburu itu sakit, kalau tidak diungkapkan',\n",
       "       b'Keunggulan holycow dibanding resto steak lain adalah wagyunya yang mantap. Favorit saya adalah wagyu sirloin steak yang dinikmati dengan mushroom sauce. Rasanya mantap. Dagingnya tebal dan dinikmati dengan butiran jagung rebus, sayur bayam dan masih potatto. Enak dan mantap.',\n",
       "       b'Hai ditha, kami informasikan bahwa pembayaran kamu telah masuk ke akun rekening kami namun pemesanan tidak berhasil.',\n",
       "       b'Cuma kalau besok mau mencari, dia ada di rak yang dekat cream krim wardah bersebrangan sama rak lotion citra, sister.',\n",
       "       b'Resto dengan konsep saung2 yang terletak di dalam komplek perumahan. Makanan yang disajikan beragam mulai dari sundanese, makanan barat, dll. udara cukup dingin di malam hari atau ketika hujan jadi disarankan membawa jaket. Jalan antar saung menggunakan batu-batu sehingga kadang-kadang licin ketika hujan',\n",
       "       b'Tempatnya nyaman banget, makanannya enak, kopinya enak. Pas buat nongkrong bareng teman-teman atau makan malam.',\n",
       "       b'Kalau kuota saya besok tidak balik, saya mau marah-marah ke indosat',\n",
       "       b'Tempatnya nyaman, makanan lumayan enak. Buat yang mau ngobrol lama-lama cocok sekali ada banyak tempat lesehan nyaman banget plus udara yang sejuk.',\n",
       "       b'Rasa makanan cukup enak. Lokasi cukup strategis dekat eskalator turun dan naik mal. Secara keseluruhan baik mantap.',\n",
       "       b'Hai, ya, silakan kamu dapat mencoba lakukan pembayaran pdam di bukalapak.',\n",
       "       b'Enkaolshop, terpercaya, barangnya bagus bagus',\n",
       "       b'Aslinya ini basa berada di jalan karapitan setahu saya, sekarang memenag sudah tersebar di beberapa tempat di bandung. Makanannya juga tidak hanya bakso, tetapi ada beberapa makanan tambahan yang lain. Untuk rasa juga tidak terlalu spesial. Untuk harga dengan ukuran harga bakso di bandung cukup mahal. Ditambah pelayannannya yang kurang bagus di ciwalk.',\n",
       "       b'Seharusnya masih berhak mendapatkan cahsback 5 j uta dengan cara berlangganan paket iplan 500k selama 24 bulan kak. Dan bisa juga cicilan 0% menggunakan cc bca, bni, mandiri, cimb niaga.',\n",
       "       b'Tidak menyesal juga makan di solaria tempatnya bersih dan cocok buat keluarga juga. Makanan cepat keluar setelah dipesan.',\n",
       "       b'Copot dari keanggotaan polisi saja. Daripada jadi perusak nama baik korp.',\n",
       "       b'Menyesal tadi ke toko itu. Malah beli hal-hal yang tidak akan terpakai. Cuma karena lapar mata jadi beli:',\n",
       "       b'Makan di pinggir jalan, makanannya tidak enak, pelayanan tidak bagus, harga mahal.',\n",
       "       b'Untuk mengajukan kerjasama / sponsorship ibu elsa dpt menghubungi: Pt. Bank mandiri persero tbk corporate secretary',\n",
       "       b'Produksi lagi dong indomi goreng sate. Dicari-cari sudah tidak ada. Rasanya enak beda dngan rasa sate merk lain',\n",
       "       b'Pagi pagi ingin marah dengan sinyal telkomsel.',\n",
       "       b'Antriannya lama, makanannya juga lama dan rasa makanannya biasa saja dan mahal',\n",
       "       b'Parah banget xl deh sekarang sepertinya, harus ganti provider lain cuma mahal doang kualitas jelek',\n",
       "       b'Kereta mutiara timur malam, sby - bnywangi eksekutif tetapi kursi jorok dan kotor sekali. Tidak sesuai dengan harga yang sangat mahal, sangat mengecewakan',\n",
       "       b'Saya memilih tempat makan di saung dengan pemandangan sawah memesan nasi timbel komplit, surabi oncom dan colenak pesanan datang tidak harus menunggu lama. Hanya saja saya kecewa dengan serabinya. Di luar ekspektasi saya. Tidak enak.',\n",
       "       b'Payah sekali pelayanan pos indonesia saat ini',\n",
       "       b'Ini indihome saya gangguan lagi ini. Saya lagi ada kerjaan tiba-tiba terputus, merah kedip-kedip, baru seminggu baik wifinya, sudah gangguan lagi. Indihome telkom sekarang banyak gangguan ya, bayar selalu mahal, mengecewakan sekali.',\n",
       "       b'Menurut saya bebek garang ini punya varian menu bebek yang cukup banyak. Saya suka perpaduan antara bebek dan sambalnya, rasanya pas. Untuk harga berkisar 20 - 30 ribu dan menurut saya cukup sepadan dengan rasa dari makanan di sini.',\n",
       "       b'Cocok buat pertemuan, acara pernikahan, pemotretan. Suasananya tenang, santai, adem.',\n",
       "       b'Setiap kali ke sini saya ingin berlama-lama dan tidak mau pulang cepat. Pelayanan yang ramah dan tempat yang nyaman.',\n",
       "       b'Restoran ini menyajikan masakan bali yang sarat modifikasi sehingga terkesan disesuaikan dengan lidah konsumen yang nota bene bukan orang bali. Tiga photo yang saya lampirkan itu adalah makanan yang kami pesan.',\n",
       "       b'Kalau di banyak tempat steak membutuhkan waktu lama sebelum penyajiannya, di tempat ini menurut saya cenderung cepat dan sesuai dengan lidah maupun dengan dompet saya. Saya pernah menunggu teman sampai 2 jam di sini, tapi tidak berasa karena makanannya membuat saya lupa waktu. Hehe',\n",
       "       b'Kalau mau beli obat pergi saja ke kimia farma yang berada di ujung jalan itu',\n",
       "       b'Pelajaran matematika anak sd sekarang sulit sulit',\n",
       "       b'Restoran di sini selalu penuh karena letaknya yang strategis di pintu masuk mal. Rasa bubur cukup enak. Proses penyajian dari order sampai penghidangan juga cukup cepat.',\n",
       "       b'Habisnya aku lagi galau kak maka dari itu bikin story kayak begitu',\n",
       "       b'Untuk yang sedang ke cirebon dan cari tempat yang enak parkirnya dan makanannya butuh cepat, lebih baik ke sini karena parkiran luas dan suasana nyaman',\n",
       "       b'Mm sedih deh kalau ke sini selalu menunggu: Mienya pedas banget. Hehe bangkunya juga tambahkan dong biar tidak menunggu',\n",
       "       b'Memang faktanya kami punya banyak tanah di sini, mau apa lo?! maka dari itu kerja biar bisa banyak duit kayak kami-kami, jangan cuma bisanya menghujat saja',\n",
       "       b'Restoran The Valley ini pemandangan ke kota nya nomor 1. Menikmati suasana malam hari dengan lampu kedap-kedip indah sekali.',\n",
       "       b'Kalau ke semarang wajib makan mie kocok ini, menurut saya paling enak. Walaupun tempatnya dipinggiran ruko, dan untuk makannya mesti berusaha untuk dapatkan bangku, tapi layak banget kalau dibandingkan rasanya. Kikilnya banyak, kuahnya gurih banget dan mienya lebar dan tipis. Harganya juga terjangkau. Teh terbaik mie kocok di semarang.',\n",
       "       b'Maling yang sebenarnya sudah di pastikan bernama lulung',\n",
       "       b'Memang ya sepertinya aku tidak ditakdirkan nikmatin indomie goreng, padahal cuma merebus minya lho. Bisa-bisanya terlalu lembek. ',\n",
       "       b'Nike mengeluarkan produk sepatu terbarunya',\n",
       "       b'Waktu saya ke restoran itu, pelayannya mendatangi saya dan bertanya untuk berapa orang.',\n",
       "       b'Roti bakar duti ini sudah ada sejak dulu di sini. Rotinya biasa saja sih. Hanya menu pilihannya buanyak banget. Apa saja ada. Sampe kadang bingung mau pilih yang isi apa. Ada jual bubur juga. Oke jugalah.',\n",
       "       b'Kuota jadi habis terkuras buat melihat foto-foto yang cuma bikin saya iri, makanan enak-enak yang bikin ngiler',\n",
       "       b'Saya suka sekali makan di restoran ini, menu masakannya beragam, rasanya enak, harganya tidak terlalu mahal. ',\n",
       "       b'Kurang pas apabila berkunjung ke bandung tanpa mencicipi batagor. Batagor burangrang adalah salah satu yang rasanya enak dan sausnya pun gurih.',\n",
       "       b'Yang makan ramai, antre, menu masakan, masakan standar seperti di rumah. Rasa biasa saja. Harga tidak sesuai kualitas rasa.',\n",
       "       b'Saya bisa bilang ini adalah resto yang cocok untuk keluarga. Sambil istri saya belanja oleh-oleh, saya bisa menikmati makan siang di resto ini. Anak anak saya bisa bermain di tempat bermain dengan tiket yang murah. ',\n",
       "       b'Tempatnya ramai sekali, makanan bervariasi. Desain dan lingkungan nyaman. Udara sejuk, banyak tempat bermain anak.',\n",
       "       b'Baik kak, berkenan menunggu untuk kendala pada provider telkomsel akan direspon oleh rekan kami.',\n",
       "       b'Kasihan personil ungu sekarang sepi job gara-gara ditinggal pasha',\n",
       "       b'Kalau ada pulsa segudang, akan mengaktifkan wifi buat semua orang biar bisa internetan',\n",
       "       b'Menkeu menyampaikan bahwa lemahnya rupiah lebih berpengaruh pada defisit transaksi berjalan',\n",
       "       b'Pagi pagi di tol cipali sudah macet parah, bikin jengkel saja ini',\n",
       "       b'Perihal pergantian rekening untuk pembayaran autodebet BPJS, Bapak Luqman bisa datang ke kantor cabang Bank Mandiri pengajuan autodebet tersebut ya. Untuk dapat dilakukan tutup rekening terlebih dahulu.',\n",
       "       b'Mobil yang sehari-hari dipakai jeje adalah merk toyota dan berwarna krem.',\n",
       "       b'Suasana sawah dan pegunungan, ada wine cellarnya. Tapi makanannya mahal, mestinya kualitas bisa lebih baik karena banyak restoran serupa di bandung sekarang sudah menjamur',\n",
       "       b'Paling kesal kalau ada orang mengobrol di jalan sambil motoran apalagi kalau jalannya sempit',\n",
       "       b'Pelayanan kurang aktif dan tidak ramah serta kurang dapat menjelaskan menu makanan yang ada, sehingga tamu merasa tidak diacuhkan dan didiamkan saja.',\n",
       "       b'Restoran sangat bagus, pemandangan menghadap ke kota Bandar Lampung, sehingga sangat indah pada malam hari. Suasana sangat tenang, dekorasi ruangan sangat cantik. Saya sangat suka tempat ini.',\n",
       "       b'Calon pelamar cpns hanya dapat mendaftar di 1 instansi dan 1 formasi jabatan',\n",
       "       b'Makanan lumayan, saya order spring roll agak oily, harga hidangan utama cukup mahal. Bangunan unik tapi lokasi tidak terlalu bagus sehingga tempatnya selalu terlihat sepi. Saat order sebaiknya menyampaikannya lebih jelas, sebab yang terjadi pada kami, kami order 2 tapi menerima 3 item. Pelayan sangat ramah, tapi sikap kasirnya sedikit aneh. Mungkin saya tidak akan kembali lagi.',\n",
       "       b'Ikan gurame bakar dan cah kangkung yang disajikan di red s dipo yang saya beli pada saat makan siang pada bulan november 2012, rasanya lumayan oke, hanya saja cabe pada sambalnya dan sayurannya seperti: Timun, tomat dan kangkungnya juga jeruk pada es jeruknya terasa kurang segar.',\n",
       "       b'Karya bakti bca finance posisi relationship officer membuka lowongan untuk penempatan pekanbaru',\n",
       "       b'Makan bakso sambil ngobrol sama teman teman. Tempatnya asik buat makan. Harganya tidak terlalu mahal.',\n",
       "       b'Di tengah proses hukum, warga tamansari bandung hadapi tekanan penggusuran',\n",
       "       b'Hari ini mau belanja di toko itu supaya bisa dapatkan peralatan masak keren plus kesempatan liburan ke Belanda.',\n",
       "       b'Jangankan 1 jam, ngeplay stories yang cuma beberapa detik saja loadingnya lama sekali, indosat luar biasa.',\n",
       "       b'Tidak bosan dan terkesima. Setiap datang ke congo kafe. Tempatnya tenang. Nyaman. Coba deh datang malam hari. Lebih romantis. Kalau bawa pasangan',\n",
       "       b'Harganya sangat terjangkau dan menu makanannya cukup kekinian. Tempat makannya didekor dengan baik dan unik.',\n",
       "       b'Tempatnya kurang bersih. Untuk pergi ke sana agak susah karena rawan macet. Jadi berpikir dua kali kalau mau kembali lagi.',\n",
       "       b'Tim saya akan mengadakan makan malam tema di burgundy. Daripada tersesat, saya dan sekretaris saya mencoba mengecek tempatnya dahulu sehari sebelumnya. Sekalian juga tes makanan. Perjalanannya jauh sekali dan naik turun bukit. Diperparah ketika kami ke sana itu hari minggu sore sehingga macet. Sesampainya di sana sih pemandangannya oke. Tapi layout restorannya biasa saja.',\n",
       "       b'Saya gunaka bb tipe 9210, saya mendapat info sejak kemarin, dikenakan biaya gprs.',\n",
       "       b'Handphone saya lenovo, kecemplung di comberan pas 2 minggu baru beli, jatuh di aspal pas ngebut naik motor sampai isinya ke mana-mana, telepon genggam saya masih bertahan, mantap memang lenovo.',\n",
       "       b'Batagornya besar-besar dan dagingnya terasa banget. Mantap deh. Bumbunya rasanya enak. Cocok kalau dijadikan menu untuk makanan ringan sore hari.',\n",
       "       b'Sangat melelahkan malam ini.',\n",
       "       b'Saya sudah kirim email complaint karena telepon tidak masuk terus.',\n",
       "       b'Porsinya banyak kepiting kisaran 100 ribu / porsi. Udang bakarnya enak. Enak bumbunya penuh rempah. Harga dan rasanya bersaing dengan perahu seafood jalan sumatera.',\n",
       "       b'Rizal ramli beberkan cara stabilkan harga beras',\n",
       "       b'Saya sebagai warga jakarta malu kang sama oknum yang tidak bertanggung jawab yang mau sweeping bobotoh',\n",
       "       b'Bali adalah salah satu pulau yang menjadi tujuan destinasi para turis.',\n",
       "       b'Perjalanan kali ini dalam rangka urusan mencari tempat yang rekomendasi untuk klien kami. Jarak tempuh dari bandung kota cukup jauh memang, tetapi hal tersebut bisa terbayar dengan pemandangan yang yang cantik di waktu malam dan makan malam dengan makanan dan pelayanan okay.',\n",
       "       b'Lokasinya memang sedikit tersembunyi di sudut sebuah perumahan. Konsep tempatnya bagus, seperti rumah di pedesaan eropa dengan lantai dan dinding kayu. Selain di dalam, pengunjung bisa menikmati makanannya di kursi-kursi di area taman yang unik menggunakan drum bekas.',\n",
       "       b'Kami menjual kabel hdmi premium 1 meter beli 2 gratis 1 di lapak Rich Com Store.',\n",
       "       b'Tidak mau tahu. Balikin pulsa saya. Ini namanya perampokan. Paket nelp kalian juga perampokan. Baru ini saya komplain.',\n",
       "       b'Daun memiliki berbagai jenis bentuk.',\n",
       "       b'Saya dan keluarga mencoba bersantap di karamba resto karena sopir mobil sewa kami merekomendasikannya. Kami memang tiba di tempat agak malam sekitar pakai. 21 meskipun restoran belum tutup atau bersiap-siap akan tutup, namun beberapa menu telah habis. Bahkan ibu dan suami saya memesan nasi timbel yang sayur asemnya sudah habis dan diganti sup sayur oleh pihak resto. Tidak banyak pilihan yang bisa kami pilih. Kurang rekomendasi.',\n",
       "       b'Berubah status jadi universitas, bsi gelar seminar motivasi',\n",
       "       b'Rumah makan zaman dahulu namun rasa tetap sama enaknya, ayam dan nasi kreceknya enak sekali, kadang saya sengaja beli untuk bungkus ke rumah',\n",
       "       b'Agak kesal juga kalau tiap hari lewat sana melulu. Sempit, dua arah, macet sudah jadi makanan sehari-hari',\n",
       "       b'Adikku diterima di teknik lingkungan ITB',\n",
       "       b'Tolong cepat tindaklanjuti pengaduan saya, sebelum korban meretas gopay jadi bertambah.',\n",
       "       b'Menu utama andalan mereka adalah ayam betutu yang dapat dipilih variasi rasanya mulai dari tidak pedas hingga sangat pedas. Selain ayam juga ada bebek betutu dengan variasi rasa yang sama.',\n",
       "       b'Tidak pernah bisa bicara kata-kata kasar ke pasangan walau tujuannya bercanda / memang lagi marah banget karena saking respeknya saya ke dia',\n",
       "       b'Kemarin mereka mendaftar beasiswa djarum',\n",
       "       b'Kak adit aku pesan indominya satu',\n",
       "       b'Oh iya diketerangan kan note 3 pro, kok yang dikirim note 3 ya, kecewa juragan',\n",
       "       b'Pria tabrak warga dengan mobil di prancis, 2 terluka',\n",
       "       b'Saya penasaran pingin makan di sini. Ketika pesan, suara mas-masnya kecil sekali ampun deh tidak jelas bicara apa blubup blubup begitu haha. Saya memesan mi ayam 2baso ekstra, pacar saya memesan bakso urat soun. Tidak lama datang pesanan pacar saya dan ternyata tidak sesuai ekspektasi.',\n",
       "       b'Teman saya bekerja di gojek',\n",
       "       b'Ya, saya sudah hubungi via halo bca. Namun terputus terus dan pulsa saya kepotong banyak kalau telepon berulang-ulang!',\n",
       "       b'Suasana sejuk, hijau, menyegarkan dan sangat cocok untuk refreshing saat kabur dari rutinitas. Untuk makanan yang mahal menurut saya bukan masalah karena lokasi yang bagus lebih penting.',\n",
       "       b'Bosan dengan dunia ini yang penuh dengan kemunafikan',\n",
       "       b'Orang sekarang kebanyakan sulit menghargai orang lain',\n",
       "       b'Tempat ini mengimingi makan steak dan daging dengan harga murah. Namun kenyataannya tidak murah jika dibandingkan dengan kualitas dagingnya yang tidak enak. Dagingnya keras dan rasanya hambar.',\n",
       "       b'Pagi sudah marah-marah karena pelayanan di bank cabang sanur yang tidak professional dan mengecewakan! Tidak salah banyak penilaian customer jelek.',\n",
       "       b'Pergi untuk makan siang bersama 6 keluarga yang terdiri dari orang dewasa dan anak anak. Kami mendapatkan saung yang jauh di atas. Kebayang dong jalan ke atas yang sangat melelahkan. Tempatnya memang bagus tapi lokasi saung yang sangat jauh dan melelahkan menuju ke atas. Saran saya kalau mau ke situ jangan pas makan siang karena pasti penuh. Harga makanan lumayan misil. Tapi pemandangannya bagus sekali.',\n",
       "       b'Steiknya lumayanlah enak. Warung ini cocok buat pelajar atau mahasiswa hehehe karena harganya terjangkau. Untuk makanannya oke kok.',\n",
       "       b'Menurut saya makan di sini porsinya banyak dan harganya murah, terus makannya cepat datangnya lagi dan tempatnya juga bersih dan luas',\n",
       "       b'Orang indonesia itu butuh pemimpin visioner bukan penghibur,',\n",
       "       b'Tong dji menyajikan aneka makan dan minuman, tidak hanya teh. Yang direkomendasikan: Teh poci gula batunya dan nasi goreng',\n",
       "       b'Saya bukanlah penggemar berat kambing karena tidak tahan dengan baunya, tapi makan di tempat ini, saya seperti tidak sedang makan kambing! Dagingnya empuk, enak dan tidak berbau. Suasana restonya pun enak dan nyaman',\n",
       "       b'Saya mau tutup kartu kredit dari beberapa bulan lalu, nih.',\n",
       "       b'Yang benar-benar real tidak ada settingan',\n",
       "       b'Duh indosat mengecewakan. Aku mau daftar baru kok malah kena tarif per kb? Pulsa berkurang drastis',\n",
       "       b'Aku memesan jaket gunung eiger',\n",
       "       b'Pelayanan sih memang cepat tapi masakannya asal asalan saja, asal jadi asal matang saja, pesan udang saos tiram, sama saja dengan masakan kepiting saos padang, tang untuk kepiting tidak diberikan jika tidak diminta.',\n",
       "       b'Restoran dengan konsep tempat makan yang sangat asri, apalagi kalau malam suasananya sangat indah dengan lampu lampunya, makanannya pun enak rasanya. Cocok untuk tempat kumpul keluarga.',\n",
       "       b'Pertama coba karena ulasan beberapa orang tapi ternyata rasanya biasa saja. Sepiring 30 ribu. Sulit cari tempat duduk.',\n",
       "       b'Tadi katanya suruh tunggu saja sampai sms diterima, sudah seharian tidak ada juga!',\n",
       "       b'Saatnya membuat karya visual 360 derajat dengan samsung! Ikuti langkah mudah di video ini.',\n",
       "       b'Katanya detil aroma chamomile, tapi kok baunya tidak enak begini sih',\n",
       "       b'Saya sangat puas dengan spesifikasi laptop asus',\n",
       "       b'Wekkend yang menyenangkan bersama keluarga di tempat yang fasilitasnya memadai dan harga terjangkau. Liburan makin menyenangkan dengan adanya kebun stroberi yang bisa memetik langsung dari kebunnya.',\n",
       "       b'Mohon perhatiannya admin. Jaringan di cileungsi bogor sangat buruk kualitasnya. Padahal bayarnya mahal.',\n",
       "       b'Makanannya lezat: ayam goreng, tumis terong, sup ikan, tempe goreng, sambal. Pelayanannya juga bagus.',\n",
       "       b'Pertama kali ke tempat ini, reservasi dan dapat nomor 3. Minta tempat di lantai bawah sehingga tidak perlu naik tangga karena ada yang lututnya sedang sakit. Menunggu hampir 40 menit tanpa kepastian. Saya batalkan. Tadinya tidak mau beri rating 1 karena memang mungkin ramai dan permintaan saya khusus, jadi sulit. Eh mbaknya malah ketus.',\n",
       "       b'Hasil quick count pilkada serentak 2018 diwarnai banyak kejutan.',\n",
       "       b'Pemandangan bagus untuk santai bersama di sore hari dan malam hari. Makanan cukup variatif dan enak.',\n",
       "       b'Saya dan sodara istri saya sedang menghabiskan waktu di palembang. Saya mencari tempat makan dan bertemulah bakmi jogya. Setelah masuk terkejutlah karena saya harus mencari tempat duduk dan mencari tempat yang kosong saya terlantar selama 35 menit. Setelah memesan dengan menu mi godok. Lagi saya menunggunya sejam dan ini membuat saya hilang selera makan itu pun ditanyakan ke tukang masak.',\n",
       "       b'Tempat tidurnya kotor, bantalnya bau semua... buat badan jadi gatal kayak banyak hewannya, jadi tidak bisa tidur dengan nyenyak.',\n",
       "       b'Perjalanan malam ini sungguh melelahkan.',\n",
       "       b'Saya ke sini bersama beberapa teman untuk makan siang. Akses jalan menuju lokasi kafe ini sangat sempit dan terjal, bahkan beberapa bagian rusak. Kami memesan beberapa menu makanan. Setelah menunggu cukup lama, ketika makanan datang rasa dan tampilannya mengecewakan. Ternyata rasanya juga mengecewakan.',\n",
       "       b'Sesuai namanya creative space kafe sehingga banyak karya seni yang bisa dinikmati di dalamnya dan beberapa patung di bawah. Sedangkan di atas ada kafe dengan desain yang menarik dan cocok dikunjungi di sore hari. Tempatnya yang berada di lokasi tinggi membuat tempat ini punya pemandangan yang bagus.',\n",
       "       b'Selamat siang orang miskin. Semoga kalian cepat mati atau makin miskin dan sengsara.',\n",
       "       b'Gojek akan mulai membuka layanan mereka di beberapa negara asia tenggara.',\n",
       "       b'Percayakah masyarakat indonesia dengan karangan bapak polisi yang terhormat ini? Yang katanya sudah bertemu dengan pemotornya? Silakan anda nilai mengarang di bawah ini. Dapat nilai berapa?',\n",
       "       b'Bandung di-mana macet. Jatinangor juga seperti tol brexit. Bisa pingsan dalem mobil kelamaan menunggu.',\n",
       "       b'Waktu kami datang kami dalam daftar tunggu, walau banyak tersedia kursi kosong, mungkin beberapa tidak terpakai, namun staf tetap ramah walau ada beberapa pelanggan yang tidak senang dengan menunggu sambil melihat banyak kursi yang kosong. Order makanan di belakang restoran, dan menunya lumayan enak bagi kami. Ini kunjungan kedua kami, dan satu hal yang mengingatkan kami adalah penjual balon.',\n",
       "       b'Kwetiauw goreng dan teh tarik menjadi pilihan makanan saya di sini, meskipun ada beberapa yang besan mi yamin, anda boleh coba juga nasi gorengnya',\n",
       "       b'Bulan ini saldo di rekening saya nol.',\n",
       "       b'Hotel ibis tamarkan wahid hasyim sangat mengecewakan untuk pelayanan. Terutama masalah reservation! Parah abiz!',\n",
       "       b'Jutek banget deh karyawan indosat yang di graha indosat',\n",
       "       b'Aku tidak pernah menyesal mencintaimu.',\n",
       "       b'Makanan di sini enak loh. Lebih enak ketimbang tempat makan sejenis di balikpapan. Tetapi ya harganya lebih mahal juga. Hhe / orang jatuhnya 100 ribuan lebih. Tapi puas karena rasa makanannya enak. Kuah tomyamnya. Mm. Enak.',\n",
       "       b'Walaupun porsinya besar, tapi secara rasa, biasa saja. Harga tidak sesuai dengan porsi sih. Penyajiannya juga tidak begitu rapi, ya begitu saja.',\n",
       "       b'Ini kunjungan pertama kami ke restoran cabang utama. Sebelumnya kami sering pesan dari cabang yang lain. Karena kami sangka di sini suasana lebih bagus dan menu lebih banyak. Tetapi saya terkejut dengan sikap pelayan yang tidak ramah. Kami akan duduk di sofa luar atas saran pelayan wanita. Tetapi pelayan pria tidak mengizinkan dengan alasan malas membersihkan.',\n",
       "       b'Badan pemerintah satu ini harus dibubarkan karena selama ini kerjanya tidak ada arti sama sekali.',\n",
       "       b'Bakpao ini sudah terkenal dari zaman dulu namun sampai sekarang masih banyak digemari karena rasanya yang khas.',\n",
       "       b'Pelayan dan pemilik yang duduk di kasir tidak komunikatif dan tidak bisa memberikan rekomendasi untuk porsi menu yang harus kami pesan. Rasanya standar. Parkir susah.',\n",
       "       b'Saat saya ingin mencari makanan yang berbagai macam pilihan, saya pun di rekomendasikan oleh teman untuk makan di sini, selain murah juga nikmat makanannya. Hanya saja sedikit lama untuk kita menunggu pesanan.',\n",
       "       b'Tidak akan ada yang milih lagi, kamu pikir masyarakat sekarang masih bisa ditipu?',\n",
       "       b'Sangat kecewa sekali karena liga champions tidak disiarkan di channel manapun baik channel lokal ataupun channel olahraganya. Seharusnya kalian perjuangkan hak siar itu karena pelanggan sudah bayar mahal.',\n",
       "       b'Mahasiswa jangan sok-sokan deh ikut politik. Belajar sana saja deh.',\n",
       "       b'Terdapat banyak taman kota di malang.',\n",
       "       b'Warga temukan 2.910 keping ktp-el di semak belukar',\n",
       "       b'Saya senang dengan aplikasi gojek, memudahkan dalam banyak aktivitas',\n",
       "       b'Aku pernah instal traveloka, tapi karena tidak terpakai akhirnya aku uninstal lagi',\n",
       "       b'Tempatnya bagus buat foto foto, dan sejuk lagi udaranya, tapi jangan coba coba makan di situ, sudah harganya mahal, tidak enak lagi, menyesal deh',\n",
       "       b'Sayangnya, handphone xiaomi apa pun tidak bisa kalau cuma beli 16 gb karena software bawaannya itu gede banget',\n",
       "       b'Ini ada udang dibalik batu supaya anaknya itu dipilih jadi wakil presiden.',\n",
       "       b'Suka banget dengan menu kentang panggangnya. Untuk harga, standar steak lah. Rasa sebanding dengan harga. Menurut saya suasana tempatnya cukup nyaman dan ada taman di bagian tengahnya. Restoran yang wajib saya kunjungi kalau ke bandung lagi!:',\n",
       "       b'Kafe rindang dengan suasana pedesaan dan hutan berpadu apik dengan air terjun kecil yang indah untuk rasa cukup enak dan harga yang tidak telalu mahal, direkomendasikan bagi semuanya',\n",
       "       b'Otakmu nyatanya hanya sebesar kelereng.',\n",
       "       b'Jadi bosan. Semua film sudah ditonton dan sekarang mati gaya.',\n",
       "       b'Bapak berkumis lebat itu menyebrang menggunakan zebra cross',\n",
       "       b'Banyak komen di tripadvisor membuat saya penasaran, bermodalkan perut kosong supaya melahap lontong padang kesukaan saya ternyata benar-benar membuat kecewa, akhirnya saya cuma minta dibungkus saja selera makan pun menjadi luntur. Masih mending makan lontong padang yang di itb, untuk rasa masih jauh',\n",
       "       b'Susah payah selfie demi si samsung galaxy. Yang penting usaha dan tetap bernyanyi',\n",
       "       b'Makanan enak, suasana sangat asri dan sejuk dengan banyak pepohonan, dan suara air sungai yang mengalir buat tambah nyaman dan tenang. Pelayanan yang cepat sehingga kita tidak menunggu lama. Ada ruang salat yang nyaman. Menu makanan enak harga terjangkau',\n",
       "       b'Tidak pernah bosan! Dari tahun 1996 saya pertama kali kenal ayam goreng suharti, saya langsung katakan inilah ayam paling top yang pernah saya makan. Resep rahasia dan bumbu kremesnya menambah cita rasa tersendiri dari ayam goreng legendaris asli indonesia ini',\n",
       "       b'Promonya menipu atau gimana ya. Dicek katanya ada promo 77 ribu dapat kuota 30 gb diskon 40% dari harga aslinya, pas saya isi pulsa sebesar 80 ribu belum di daftarkan apa-apa sudah banyak ke potong 5 ribu. Kenapa bisa begitu ya? Kecewa sih.',\n",
       "       b'Alternatif jasa bersih-bersih di jakarta. Aku udah nyobain. Sejauh ini hasilnya lebih oke dari yang lain',\n",
       "       b'Istri saya beli beberapa produk di toko yang sama, dan beratnya belum sampai 1 kilo, menggunakan pengiriman via gosend, dikenakan ongkir 2x, kurang ajar!',\n",
       "       b'Kenapa aku baca pernyataan sikap para calon ketua umum ini semuanya membosankan. Macam entahlah.',\n",
       "       b'Diajakin teman waktu masih kuliah, katanya satenya enak... tapi setelah dicoba kurang masuk sama selera saya... hehe hanya opini saya.',\n",
       "       b'Lelah dalam perjalanana yang lumayan jauh dari kota terbayar dengan suasana dan lezatnya hidangan, disempurnakan dengan pelayanan yang ramah serta cepat dari pramusaji. Jangan lupa pilih desert buah stroberi segar dihidangkan dengan susu coklat, anda akan ketagihan.',\n",
       "       b'Parkiran sebenarnya luas, tapi karena pengunjung banyak, kami harus parkir di pinggir jalan. Namun petugas keamanan sangat helpul mengarahkan. Kesan tidak terlalu luas, selebar rumah tua standar, namun ternyata di dalam terdapat ruang yang luas. Terdapat kursi dan sofa berbagai jenis, hampir tidak sama semua, namun kesannya jadi menyenangkan untuk kumpul.',\n",
       "       b'Makanan di sini cukup enak, tapi harganya cukup tinggi menurut saya. Kami mengambil pondokan di area seperti persawahan, saat makanan datang cukup banyak lalat. Sempat kesal sesaat karena permintaan lilin agak lambat direspons. Pelayan yang membawa makanan lama baru menanggapi pesanan, mungkin masih baru.',\n",
       "       b'Tempat makan ini sebetulnya cukup menarik karena berbagai kuliner indonesia tersedia di tempat ini. Namun sayang, mungkin karena terlalu menarik, jadi jumlah pengunjung rasanya melebihi kapasitas tempat yang tersedia, jadi terkesan sesak',\n",
       "       b'Tidak ada matinya menyusuri kafe di bandung. Termasuk tempat ini, bagus tempat banget deh, kopi lattenya juga pas dengan lidah saya. Harga? Setimpallah.',\n",
       "       b'Pengalaman yang cukup seru, makan tanpa alas piring, tapi hanya dengan alas daun, makin nikmat. Makanan sunda yang sangat bervariatif dan cukup enak. Tipsnya: Jangan terbawa emosi dan kalap memesan dan memilih semua makanan yang disediakan biasanya kalap kalau sudah melihat makanan macam-macam begitu. Pilih seperlunya.',\n",
       "       b'Pemandangan yang luar biasa dari kafe ini, menyajikan sentuhan cemara dan eksotisnya alam hutan raya bandung. Selain itu makanan dan minuman yang terbilang murah banget. Keren!',\n",
       "       b'Waktu pertama buka lumayan. Tetapi makin ke sini kualitasnya menurun. Minya kurang rasa, juga kuahnya.',\n",
       "       b'Resto tempat makan kambing bakar yang saya rekomendasikan sewaktu anda berkunjung ke kota ini. Kambing bakarnya enak, gurih plus jauh dari yang namanya bau kambing serta empuk. Sop buntutnya pun tidak kalah sedapnya. Tempatnya pun asyik banget, cocok juga buat yang ingin menghabiskan waktu bareng keluarga atau teman.',\n",
       "       b'Penasaran dengan ulasan orang, spesial cari waktu ke warung sale. Awalnya semangat. Menembus macet. Demilah. Tapi kecewa dengan jalannya. Selain jauh, kondisi jalan yang buruk membuat semangat mulai luntur. Phisik bangunan unik, ada musik lift. Kapasitas ruangan terbatas kayaknya. Menu cukup unik dan kreatif. Tapi belum cukup berharga mengobati kecewanya perjalanan.',\n",
       "       b'Minggu kemarin di kampung saya sempat ada jaringan 4G',\n",
       "       b'Kalau ke sini menyiapkan perut kosong ya karena di sini konsepnya bisa makan sepuasnya. Puas banget makan di sini, sesuai kok sama harganya. Aku sukanya nasi goreng, enak banget.',\n",
       "       b'Untuk menanyakan kredit mandiri finance bisa di sini juga.',\n",
       "       b'Sekarang restorannya bertingkat 2. Sayangnya ketika saya ke sana acnya mati jadi gerah. Dan yang membuat saya heran, saya tidak pernah dikasih struk.',\n",
       "       b'Kami berkunjung ke restoran ini pada malam hari. Wow, tempatnya sangat romantis. Lilin, jalan mendaki, konsep lesehan di tengah suara air terjun yang cukup dekat membuat suasana makan lebih nikmat.',\n",
       "       b'Tempat ini menyediakan beberapa makanan, tapi yang saya coba tentu saja batagornya, tempatnya pun bersih.',\n",
       "       b'Enak. Yang jelas sambal tysonnya oke! Makan pakai menu apa saja cocok. Siap kepedesan dan timbangan naik kalau makan di sini!',\n",
       "       b'Silakan kunjungi toko kita buat yang kemarin cari handphone advan, xiaomi redmi 4a dan nokia 150',\n",
       "       b'Mahasiswa zaman sekarang terlalu banyak mengeluh tapi kurang berkarya',\n",
       "       b'Menunya simpel, pastanya banyak pilihan rasa, tempatnya nyaman, minuman juga banyak pilihan, ada makanan penutup juga. Tambah jadwal live musik harusnya biar makin kece.',\n",
       "       b'Tagihan internet saya enggak masuk akal 250% lebih mahal kakak! Butuh penjelasan.',\n",
       "       b'Kecewa banget. Pesan dan bayar tiket pesawat dilakukan jam setengah 1 dini hari buat penerbangan jam6 pagi. E - tiket tidak dikirim. Tiba-tiba dihubungi via email kalau tiket yang sudah dibayar telah habis jam-jam pagi. Kalau tiketnya habis kenapa masih bisa dibooking.',\n",
       "       b'Sangat miris bin ironis, sikap tidak berkualitas! Tidak layak jadi wakil rakyat 270 juta populasi penduduk dari sabang sampai merauke!',\n",
       "       b'Untuk makanan beragam hanya saja minyak terlalu banyak, gurame goreng tidak enak karena tidak digoreng garing. Juice yang ditawarkan terlalu banyak air dan kurang segar',\n",
       "       b'Semoga selalu setia menemani rakyat indonesia dari sabang - merauke, dari kota sampai pelosok desa.',\n",
       "       b'Toyota menduduki peringkat pertama sebagai merek mobil yang paling bernilai.',\n",
       "       b'Maklum sesama maling harus saling melindungi. Jadi yang dimasalahkan adalah soal prosedur dan bukan substansi bahwa anggota dewan tertangkap tangan terima sogokan.',\n",
       "       b'Rasanya lumayan. Sambelnya juga enak. Apalagi disajikan 3 macam model begitu. Terus banyak pilihan sih sebenarnya mau makan apa di sini. Mau gurame, mau kakap, bawal, kerang, cumi, udang. Macem-macem deh. Asal jangan pesan ikan kembung saja. Tidak ada di sini.',\n",
       "       b'Sekarang saya sudah terlalu membenci online shop buatan asing itu',\n",
       "       b'Dari zaman kuliah sampai sekarang masih doyan saja makan di kuis butcher. Enak, terjangkau, tempatnya juga nyaman.',\n",
       "       b'Malas makan oreo, suka bikin gigi hitam',\n",
       "       b'Menu favorit saya adalah sup daging dan minumannya es cingcau hitam. Rasanya enak, sangat rekomendasi.',\n",
       "       b'Pemandangan surabaya malam luarbiasa makanannya enak enak tetapi harganya luarbiasa juga jarak tidak terlalu jauh tapi pemandangannya luarbiasa dan suasananya asyik',\n",
       "       b'Hindari kepadatan, menhub imbau masyarakat tidak kembali ke jakarta bersamaan pada 1 januari',\n",
       "       b'Restoran dengan pemandangan yang menawan meskipun harus ditempuh dengan kondisi yang cukup curam. Namun terbayar dengan tempat dan rasa yang oke',\n",
       "       b'Steak sebenar-benarnya steak especially chiken cordon bulenya yang bikin kangen plus makan yang diselimuti pemandangan bandung yang top markotop. Pas banget datangnya malam ya dengan pasangan bagaimana pun dengan keluarga juga tetap asyik. Jalan menuju ke lokasi memang berli ku perlu usaha dan kerja keras.',\n",
       "       b'Ini salah satu tempat yang makanannya enak dan pemandangannya sejuk dimata. Buat kumpul dengan keluarga atau teman-teman merupakan tempat yang cocok.',\n",
       "       b'Menyebalkan. Senin pagi beserta macet parah dan banjir',\n",
       "       b'Tidak ada yang terlalu istimewa dari restoran yang menyajikan menu makanan khas sunda ini. Rasa beberapa makanan yang saya pesan sama saja dengan rasa rumah makan sunda lainnya. Tidak mampu menumbuhkan rasa nikmat yang kuat dan membuat saya terkesan secara mendalam. Hanya ayam goreng sambel penyet pesanan saya yang rasanya sedikit mendekati nikmat.',\n",
       "       b'Iklan youtube kenapa tidak bisa diskip sih, ganggu banget',\n",
       "       b'Pelayanan pt kami sangat memuaskan',\n",
       "       b'Pertama kalinya datang ke eatalia, saya datang bersama dengan teman dan 1 orang anak. Tidak memusingkan ketika memlilih makanan untuk anak karena di sini menyediakan menu dengan porsi anak. Kami memesan pizza dengan roti berwarna hitam. Untuk keseluruhan menu yang saya pesan tidak mengecewakan.',\n",
       "       b'Menangkan hadiah keren cukup dengan mengikuti foto kontes baik untuk men di alfamart.',\n",
       "       b'Kalau ke Bukittinggi jangan lupa singgah di Pasar Atas. Banyak pilihan makanan enak. Jangan lupa bawa kamera buat foto foto',\n",
       "       b'Inilah mitos yang membuat tahun baru menjadi seremonial dan artifisial, tanpa kedalaman makna',\n",
       "       b'India sedang membuat superbike listrik berkecepatan tinggi',\n",
       "       b'Sudah lama saya ingin pergi jalan-jalan ke luar negeri',\n",
       "       b'Tenderloin steak di suis butcher sangat enak - juicy, dan saus kuisnya pas di lidah. Selain itu harganya pun pas di kantong. Oleh karena itu, bersiaplah untuk mengantre apabila anda berkunjung di akhir pekan dan pada saat jam makan pula.',\n",
       "       b'Temanku juga banyak yang bekerja di bukalapak',\n",
       "       b'Minimal punten, saya mau beli tiket kami senen - yogyakarta pakai promo yang bulan mei.',\n",
       "       b'Disarankan jangan pergi ke sana ketika jam makan karena akan agak sulit untuk mencari tempat duduk.',\n",
       "       b'Parah pesan bukalapak pakai gosend kemarin sampai sekarang belum sampai bagaimana ini. Barangnya butuh sekali',\n",
       "       b'Kamarnya bau rokok. Seprai tidak diganti untuk tamu baru dan msih ada bekas abu rokoknya.',\n",
       "       b'Si A omongnya tong kosong nyaring bunyinya bicara tidak berbobot',\n",
       "       b'Sambalnya tidak akan ada di tempat lain. Rasa terasinya sangat khas, asin manisnya pas. Ruangannya memang kelas warung tapi jangan kaget waktu bayar harganya kelas resto tapi sebanding dengan kualitas makanannya',\n",
       "       b'Menurut saya steaknya cukup enak, hanya lebih baik pesan yang paling gede aja, itu lebih empuk dari yang lain. Kalau ke sini, bisa sebarkan foto di media sosial dan mendapatkan es krim gratis. Es krimnya enak loh: Kalau segi makanan oke, dari pelayanan juga baik.',\n",
       "       b'Dijaga ya makannya gus emang lagi musimnya sekarang itu. Iyasi jenuh itu malah bikin sakit',\n",
       "       b'Lama-lama di sini gua bisa hipertensi ngadepin pasien bpjs, bayar tidak seberapa tapi mau pelayanan eksekutif dan ngomel-ngomel, naik kereta saja kalau mau yang eksekutif'],\n",
       "      dtype=object)>"
      ]
     },
     "execution_count": 57,
     "metadata": {},
     "output_type": "execute_result"
    }
   ],
   "source": [
    "# encode target\n",
    "encoder = LabelEncoder()\n",
    "y_train_int = encoder.fit_transform(y_train)\n",
    "y_train_cat = to_categorical(y_train_int, num_classes=3)\n",
    "tf.constant(x_train)"
   ]
  },
  {
   "cell_type": "markdown",
   "id": "9233c4b3",
   "metadata": {},
   "source": [
    "### Obtain Weight"
   ]
  },
  {
   "cell_type": "code",
   "execution_count": 58,
   "id": "4b7d54f8",
   "metadata": {},
   "outputs": [
    {
     "name": "stdout",
     "output_type": "stream",
     "text": [
      "Epoch 1/10\n",
      "\u001b[1m125/125\u001b[0m \u001b[32m━━━━━━━━━━━━━━━━━━━━\u001b[0m\u001b[37m\u001b[0m \u001b[1m5s\u001b[0m 16ms/step - accuracy: 0.3373 - loss: 1.1234\n",
      "Epoch 2/10\n",
      "\u001b[1m125/125\u001b[0m \u001b[32m━━━━━━━━━━━━━━━━━━━━\u001b[0m\u001b[37m\u001b[0m \u001b[1m2s\u001b[0m 16ms/step - accuracy: 0.3659 - loss: 1.1083\n",
      "Epoch 3/10\n",
      "\u001b[1m125/125\u001b[0m \u001b[32m━━━━━━━━━━━━━━━━━━━━\u001b[0m\u001b[37m\u001b[0m \u001b[1m2s\u001b[0m 13ms/step - accuracy: 0.3618 - loss: 1.0944\n",
      "Epoch 4/10\n",
      "\u001b[1m125/125\u001b[0m \u001b[32m━━━━━━━━━━━━━━━━━━━━\u001b[0m\u001b[37m\u001b[0m \u001b[1m1s\u001b[0m 9ms/step - accuracy: 0.3551 - loss: 1.1113\n",
      "Epoch 5/10\n",
      "\u001b[1m125/125\u001b[0m \u001b[32m━━━━━━━━━━━━━━━━━━━━\u001b[0m\u001b[37m\u001b[0m \u001b[1m1s\u001b[0m 8ms/step - accuracy: 0.3330 - loss: 1.1028\n",
      "Epoch 6/10\n",
      "\u001b[1m125/125\u001b[0m \u001b[32m━━━━━━━━━━━━━━━━━━━━\u001b[0m\u001b[37m\u001b[0m \u001b[1m1s\u001b[0m 7ms/step - accuracy: 0.3862 - loss: 1.0964\n",
      "Epoch 7/10\n",
      "\u001b[1m125/125\u001b[0m \u001b[32m━━━━━━━━━━━━━━━━━━━━\u001b[0m\u001b[37m\u001b[0m \u001b[1m1s\u001b[0m 7ms/step - accuracy: 0.4058 - loss: 1.0930\n",
      "Epoch 8/10\n",
      "\u001b[1m125/125\u001b[0m \u001b[32m━━━━━━━━━━━━━━━━━━━━\u001b[0m\u001b[37m\u001b[0m \u001b[1m1s\u001b[0m 8ms/step - accuracy: 0.4035 - loss: 1.0921\n",
      "Epoch 9/10\n",
      "\u001b[1m125/125\u001b[0m \u001b[32m━━━━━━━━━━━━━━━━━━━━\u001b[0m\u001b[37m\u001b[0m \u001b[1m1s\u001b[0m 8ms/step - accuracy: 0.4396 - loss: 1.0765\n",
      "Epoch 10/10\n",
      "\u001b[1m125/125\u001b[0m \u001b[32m━━━━━━━━━━━━━━━━━━━━\u001b[0m\u001b[37m\u001b[0m \u001b[1m1s\u001b[0m 9ms/step - accuracy: 0.4270 - loss: 1.0794\n"
     ]
    },
    {
     "data": {
      "text/plain": [
       "<keras.src.callbacks.history.History at 0x78fc5466ce60>"
      ]
     },
     "execution_count": 58,
     "metadata": {},
     "output_type": "execute_result"
    }
   ],
   "source": [
    "model.fit(tf.constant(x_train), y_train_cat, epochs=10, batch_size=4)\n"
   ]
  },
  {
   "cell_type": "code",
   "execution_count": 59,
   "id": "ae87bd09",
   "metadata": {},
   "outputs": [
    {
     "name": "stdout",
     "output_type": "stream",
     "text": [
      "Layer: text_vectorization_2\n",
      "Layer: embedding_7\n",
      "  Weight 0: shape=(1000, 64)\n",
      "Layer: dropout_6\n",
      "Layer: simple_rnn_12\n",
      "  Weight 0: shape=(64, 64)\n",
      "  Weight 1: shape=(64, 64)\n",
      "  Weight 2: shape=(64,)\n",
      "Layer: dense_6\n",
      "  Weight 0: shape=(64, 3)\n",
      "  Weight 1: shape=(3,)\n",
      "[array([[ 0.06142019,  0.05974184,  0.0345372 , ..., -0.06316666,\n",
      "         0.18629572,  0.09448725],\n",
      "       [-0.17556876,  0.20732793, -0.02594172, ...,  0.00458009,\n",
      "         0.05992655,  0.02417792],\n",
      "       [ 0.03675007, -0.06119879, -0.04788189, ...,  0.19027299,\n",
      "         0.15875663, -0.06513658],\n",
      "       ...,\n",
      "       [ 0.1731799 , -0.22558449, -0.16964409, ..., -0.13741863,\n",
      "        -0.14166792,  0.04210154],\n",
      "       [-0.02310336, -0.04304823, -0.09023409, ...,  0.15053214,\n",
      "        -0.22047892, -0.01942348],\n",
      "       [ 0.19640382,  0.20081545,  0.05697681, ..., -0.14966345,\n",
      "         0.0308894 , -0.17635949]], dtype=float32), array([[ 0.11680669,  0.03212444, -0.05182948, ..., -0.09043783,\n",
      "        -0.0008277 ,  0.02528042],\n",
      "       [ 0.0266498 ,  0.07065772, -0.1887182 , ..., -0.08691216,\n",
      "         0.02092377,  0.02674676],\n",
      "       [-0.03513509,  0.12431973, -0.03533888, ..., -0.07741933,\n",
      "         0.08722989,  0.08561628],\n",
      "       ...,\n",
      "       [ 0.22790372, -0.11200044, -0.09745966, ...,  0.03116445,\n",
      "         0.18151152, -0.13605982],\n",
      "       [ 0.00284536,  0.019123  , -0.0609416 , ...,  0.18153575,\n",
      "         0.13538781,  0.13207401],\n",
      "       [ 0.17757598, -0.00254613, -0.06901966, ...,  0.10601118,\n",
      "        -0.23813167,  0.19073378]], dtype=float32), array([-0.03147309,  0.01188514, -0.02013422,  0.00349673,  0.04937301,\n",
      "       -0.02796135, -0.01168204, -0.02713989, -0.01883206,  0.00114635,\n",
      "       -0.00034196,  0.00528278,  0.02561977, -0.00722468,  0.04327827,\n",
      "       -0.01014512, -0.02773818, -0.03652655, -0.01964005, -0.04876588,\n",
      "       -0.00966519,  0.00085018,  0.03304701,  0.03812059,  0.05067534,\n",
      "        0.05539935,  0.0086522 , -0.03054697, -0.05477556,  0.01997884,\n",
      "        0.00088452, -0.02764612,  0.01602559,  0.01361187,  0.02363371,\n",
      "       -0.00511905, -0.01610726,  0.03957664, -0.03966484, -0.00753173,\n",
      "       -0.02526704, -0.01643158,  0.00352167, -0.03405039, -0.01725515,\n",
      "        0.04238745, -0.00453503,  0.01434775,  0.01883203,  0.01519322,\n",
      "        0.04837641, -0.01687979,  0.01473314,  0.03350319,  0.00540777,\n",
      "        0.01299286, -0.0239951 ,  0.03004511,  0.00709592,  0.01510196,\n",
      "       -0.07410246,  0.02241762, -0.00818916,  0.00259253], dtype=float32)]\n"
     ]
    }
   ],
   "source": [
    "for layer in model.layers:\n",
    "    print(f\"Layer: {layer.name}\")\n",
    "    weights = layer.get_weights()\n",
    "    for i, w in enumerate(weights):\n",
    "        print(f\"  Weight {i}: shape={w.shape}\")\n",
    "RNN_weights =model.layers[3].get_weights()\n",
    "print(RNN_weights)"
   ]
  },
  {
   "cell_type": "code",
   "execution_count": 60,
   "id": "9f64c3d8",
   "metadata": {},
   "outputs": [
    {
     "name": "stderr",
     "output_type": "stream",
     "text": [
      "WARNING:absl:You are saving your model as an HDF5 file via `model.save()` or `keras.saving.save_model(model)`. This file format is considered legacy. We recommend using instead the native Keras format, e.g. `model.save('my_model.keras')` or `keras.saving.save_model(model, 'my_model.keras')`. \n"
     ]
    }
   ],
   "source": [
    "model.save(\"RNN_1_64.h5\")"
   ]
  },
  {
   "cell_type": "code",
   "execution_count": 61,
   "id": "eeb14c8b",
   "metadata": {},
   "outputs": [
    {
     "name": "stdout",
     "output_type": "stream",
     "text": [
      "Epoch 1/10\n",
      "\u001b[1m125/125\u001b[0m \u001b[32m━━━━━━━━━━━━━━━━━━━━\u001b[0m\u001b[37m\u001b[0m \u001b[1m8s\u001b[0m 28ms/step - accuracy: 0.3751 - loss: 1.1499\n",
      "Epoch 2/10\n",
      "\u001b[1m125/125\u001b[0m \u001b[32m━━━━━━━━━━━━━━━━━━━━\u001b[0m\u001b[37m\u001b[0m \u001b[1m2s\u001b[0m 18ms/step - accuracy: 0.3585 - loss: 1.1179\n",
      "Epoch 3/10\n",
      "\u001b[1m125/125\u001b[0m \u001b[32m━━━━━━━━━━━━━━━━━━━━\u001b[0m\u001b[37m\u001b[0m \u001b[1m2s\u001b[0m 14ms/step - accuracy: 0.3421 - loss: 1.1389\n",
      "Epoch 4/10\n",
      "\u001b[1m125/125\u001b[0m \u001b[32m━━━━━━━━━━━━━━━━━━━━\u001b[0m\u001b[37m\u001b[0m \u001b[1m2s\u001b[0m 13ms/step - accuracy: 0.3739 - loss: 1.1038\n",
      "Epoch 5/10\n",
      "\u001b[1m125/125\u001b[0m \u001b[32m━━━━━━━━━━━━━━━━━━━━\u001b[0m\u001b[37m\u001b[0m \u001b[1m2s\u001b[0m 14ms/step - accuracy: 0.3606 - loss: 1.0966\n",
      "Epoch 6/10\n",
      "\u001b[1m125/125\u001b[0m \u001b[32m━━━━━━━━━━━━━━━━━━━━\u001b[0m\u001b[37m\u001b[0m \u001b[1m2s\u001b[0m 13ms/step - accuracy: 0.3302 - loss: 1.1066\n",
      "Epoch 7/10\n",
      "\u001b[1m125/125\u001b[0m \u001b[32m━━━━━━━━━━━━━━━━━━━━\u001b[0m\u001b[37m\u001b[0m \u001b[1m2s\u001b[0m 14ms/step - accuracy: 0.3277 - loss: 1.1126\n",
      "Epoch 8/10\n",
      "\u001b[1m125/125\u001b[0m \u001b[32m━━━━━━━━━━━━━━━━━━━━\u001b[0m\u001b[37m\u001b[0m \u001b[1m2s\u001b[0m 13ms/step - accuracy: 0.3823 - loss: 1.0946\n",
      "Epoch 9/10\n",
      "\u001b[1m125/125\u001b[0m \u001b[32m━━━━━━━━━━━━━━━━━━━━\u001b[0m\u001b[37m\u001b[0m \u001b[1m2s\u001b[0m 13ms/step - accuracy: 0.3609 - loss: 1.0776\n",
      "Epoch 10/10\n",
      "\u001b[1m125/125\u001b[0m \u001b[32m━━━━━━━━━━━━━━━━━━━━\u001b[0m\u001b[37m\u001b[0m \u001b[1m2s\u001b[0m 13ms/step - accuracy: 0.3986 - loss: 1.0925\n"
     ]
    },
    {
     "data": {
      "text/plain": [
       "<keras.src.callbacks.history.History at 0x78fd0074a270>"
      ]
     },
     "execution_count": 61,
     "metadata": {},
     "output_type": "execute_result"
    }
   ],
   "source": [
    "model2.fit(tf.constant(x_train), y_train_cat, epochs=10, batch_size=4)"
   ]
  },
  {
   "cell_type": "code",
   "execution_count": 64,
   "id": "3a37e3c6",
   "metadata": {},
   "outputs": [
    {
     "name": "stdout",
     "output_type": "stream",
     "text": [
      "Layer: text_vectorization_2\n",
      "Layer: embedding_8\n",
      "  Weight 0: shape=(1000, 64)\n",
      "Layer: dropout_7\n",
      "Layer: simple_rnn_13\n",
      "  Weight 0: shape=(64, 64)\n",
      "  Weight 1: shape=(64, 64)\n",
      "  Weight 2: shape=(64,)\n",
      "Layer: simple_rnn_14\n",
      "  Weight 0: shape=(64, 64)\n",
      "  Weight 1: shape=(64, 64)\n",
      "  Weight 2: shape=(64,)\n",
      "Layer: dense_7\n",
      "  Weight 0: shape=(64, 3)\n",
      "  Weight 1: shape=(3,)\n"
     ]
    }
   ],
   "source": [
    "for layer in model2.layers:\n",
    "    print(f\"Layer: {layer.name}\")\n",
    "    weights = layer.get_weights()\n",
    "    for i, w in enumerate(weights):\n",
    "        print(f\"  Weight {i}: shape={w.shape}\")"
   ]
  },
  {
   "cell_type": "code",
   "execution_count": 65,
   "id": "850b1cea",
   "metadata": {},
   "outputs": [
    {
     "name": "stderr",
     "output_type": "stream",
     "text": [
      "WARNING:absl:You are saving your model as an HDF5 file via `model.save()` or `keras.saving.save_model(model)`. This file format is considered legacy. We recommend using instead the native Keras format, e.g. `model.save('my_model.keras')` or `keras.saving.save_model(model, 'my_model.keras')`. \n"
     ]
    }
   ],
   "source": [
    "model2.save(\"RNN_2_64.h5\")"
   ]
  },
  {
   "cell_type": "code",
   "execution_count": 66,
   "id": "a33bd8fa",
   "metadata": {},
   "outputs": [
    {
     "name": "stdout",
     "output_type": "stream",
     "text": [
      "Epoch 1/10\n",
      "\u001b[1m125/125\u001b[0m \u001b[32m━━━━━━━━━━━━━━━━━━━━\u001b[0m\u001b[37m\u001b[0m \u001b[1m9s\u001b[0m 27ms/step - accuracy: 0.3085 - loss: 1.1559\n",
      "Epoch 2/10\n",
      "\u001b[1m125/125\u001b[0m \u001b[32m━━━━━━━━━━━━━━━━━━━━\u001b[0m\u001b[37m\u001b[0m \u001b[1m2s\u001b[0m 19ms/step - accuracy: 0.4150 - loss: 1.1074\n",
      "Epoch 3/10\n",
      "\u001b[1m125/125\u001b[0m \u001b[32m━━━━━━━━━━━━━━━━━━━━\u001b[0m\u001b[37m\u001b[0m \u001b[1m2s\u001b[0m 19ms/step - accuracy: 0.3264 - loss: 1.1305\n",
      "Epoch 4/10\n",
      "\u001b[1m125/125\u001b[0m \u001b[32m━━━━━━━━━━━━━━━━━━━━\u001b[0m\u001b[37m\u001b[0m \u001b[1m2s\u001b[0m 19ms/step - accuracy: 0.3411 - loss: 1.1034\n",
      "Epoch 5/10\n",
      "\u001b[1m125/125\u001b[0m \u001b[32m━━━━━━━━━━━━━━━━━━━━\u001b[0m\u001b[37m\u001b[0m \u001b[1m2s\u001b[0m 19ms/step - accuracy: 0.4400 - loss: 1.0773\n",
      "Epoch 6/10\n",
      "\u001b[1m125/125\u001b[0m \u001b[32m━━━━━━━━━━━━━━━━━━━━\u001b[0m\u001b[37m\u001b[0m \u001b[1m2s\u001b[0m 19ms/step - accuracy: 0.4037 - loss: 1.0857\n",
      "Epoch 7/10\n",
      "\u001b[1m125/125\u001b[0m \u001b[32m━━━━━━━━━━━━━━━━━━━━\u001b[0m\u001b[37m\u001b[0m \u001b[1m2s\u001b[0m 19ms/step - accuracy: 0.3284 - loss: 1.1010\n",
      "Epoch 8/10\n",
      "\u001b[1m125/125\u001b[0m \u001b[32m━━━━━━━━━━━━━━━━━━━━\u001b[0m\u001b[37m\u001b[0m \u001b[1m2s\u001b[0m 20ms/step - accuracy: 0.4023 - loss: 1.0690\n",
      "Epoch 9/10\n",
      "\u001b[1m125/125\u001b[0m \u001b[32m━━━━━━━━━━━━━━━━━━━━\u001b[0m\u001b[37m\u001b[0m \u001b[1m2s\u001b[0m 20ms/step - accuracy: 0.4088 - loss: 1.0943\n",
      "Epoch 10/10\n",
      "\u001b[1m125/125\u001b[0m \u001b[32m━━━━━━━━━━━━━━━━━━━━\u001b[0m\u001b[37m\u001b[0m \u001b[1m2s\u001b[0m 19ms/step - accuracy: 0.3828 - loss: 1.0931\n"
     ]
    },
    {
     "data": {
      "text/plain": [
       "<keras.src.callbacks.history.History at 0x78fc686cc170>"
      ]
     },
     "execution_count": 66,
     "metadata": {},
     "output_type": "execute_result"
    }
   ],
   "source": [
    "model3.fit(tf.constant(x_train), y_train_cat, epochs=10, batch_size=4)"
   ]
  },
  {
   "cell_type": "code",
   "execution_count": 67,
   "id": "be35b9d4",
   "metadata": {},
   "outputs": [
    {
     "name": "stdout",
     "output_type": "stream",
     "text": [
      "Layer: text_vectorization_2\n",
      "Layer: embedding_9\n",
      "  Weight 0: shape=(1000, 64)\n",
      "Layer: dropout_8\n",
      "Layer: simple_rnn_15\n",
      "  Weight 0: shape=(64, 64)\n",
      "  Weight 1: shape=(64, 64)\n",
      "  Weight 2: shape=(64,)\n",
      "Layer: simple_rnn_16\n",
      "  Weight 0: shape=(64, 64)\n",
      "  Weight 1: shape=(64, 64)\n",
      "  Weight 2: shape=(64,)\n",
      "Layer: simple_rnn_17\n",
      "  Weight 0: shape=(64, 64)\n",
      "  Weight 1: shape=(64, 64)\n",
      "  Weight 2: shape=(64,)\n",
      "Layer: dense_8\n",
      "  Weight 0: shape=(64, 3)\n",
      "  Weight 1: shape=(3,)\n"
     ]
    }
   ],
   "source": [
    "for layer in model3.layers:\n",
    "    print(f\"Layer: {layer.name}\")\n",
    "    weights = layer.get_weights()\n",
    "    for i, w in enumerate(weights):\n",
    "        print(f\"  Weight {i}: shape={w.shape}\")"
   ]
  },
  {
   "cell_type": "code",
   "execution_count": 68,
   "id": "fe6117c5",
   "metadata": {},
   "outputs": [
    {
     "name": "stderr",
     "output_type": "stream",
     "text": [
      "WARNING:absl:You are saving your model as an HDF5 file via `model.save()` or `keras.saving.save_model(model)`. This file format is considered legacy. We recommend using instead the native Keras format, e.g. `model.save('my_model.keras')` or `keras.saving.save_model(model, 'my_model.keras')`. \n"
     ]
    }
   ],
   "source": [
    "model3.save(\"RNN_3_64.h5\")"
   ]
  },
  {
   "cell_type": "code",
   "execution_count": 10,
   "id": "200bd01a",
   "metadata": {},
   "outputs": [],
   "source": [
    "dftest = pd.read_csv('../dataset/test.csv', sep=',')\n",
    "x_test = np.array(dftest['text'])"
   ]
  },
  {
   "cell_type": "code",
   "execution_count": 70,
   "id": "6ab71428",
   "metadata": {},
   "outputs": [
    {
     "name": "stdout",
     "output_type": "stream",
     "text": [
      "\u001b[1m13/13\u001b[0m \u001b[32m━━━━━━━━━━━━━━━━━━━━\u001b[0m\u001b[37m\u001b[0m \u001b[1m1s\u001b[0m 28ms/step\n",
      "[[0.31023914 0.25134856 0.43841228]\n",
      " [0.31023923 0.25134844 0.43841246]\n",
      " [0.31023914 0.25134853 0.43841246]\n",
      " ...\n",
      " [0.31023943 0.25134712 0.4384135 ]\n",
      " [0.31023914 0.2513485  0.43841246]\n",
      " [0.31023917 0.2513485  0.43841246]]\n"
     ]
    }
   ],
   "source": [
    "print(model.predict(x_test))"
   ]
  },
  {
   "cell_type": "code",
   "execution_count": 72,
   "id": "2a27ebc2",
   "metadata": {},
   "outputs": [
    {
     "name": "stdout",
     "output_type": "stream",
     "text": [
      "\u001b[1m13/13\u001b[0m \u001b[32m━━━━━━━━━━━━━━━━━━━━\u001b[0m\u001b[37m\u001b[0m \u001b[1m0s\u001b[0m 12ms/step\n",
      "[[0.4234361  0.16675611 0.4098078 ]\n",
      " [0.42353132 0.16676573 0.40970296]\n",
      " [0.42347407 0.1667763  0.40974966]\n",
      " ...\n",
      " [0.42327884 0.16680185 0.4099193 ]\n",
      " [0.4235398  0.1667231  0.40973705]\n",
      " [0.42356166 0.16675247 0.40968588]]\n"
     ]
    }
   ],
   "source": [
    "print(model2.predict(x_test))"
   ]
  },
  {
   "cell_type": "markdown",
   "id": "c1472c04",
   "metadata": {},
   "source": [
    "## Nyoba2"
   ]
  },
  {
   "cell_type": "code",
   "execution_count": 7,
   "id": "f976bd9f",
   "metadata": {},
   "outputs": [
    {
     "name": "stdout",
     "output_type": "stream",
     "text": [
      "/home/sean-nugroho/Documents/Semester6/MachineLearning/Tugas-Machine-Learning-2/src/sequential.py\n"
     ]
    }
   ],
   "source": [
    "import sequential\n",
    "print(sequential.__file__)"
   ]
  },
  {
   "cell_type": "code",
   "execution_count": 8,
   "id": "521e6c19",
   "metadata": {},
   "outputs": [
    {
     "name": "stdout",
     "output_type": "stream",
     "text": [
      "HDF5 layer keys: ['dense_6', 'dropout_6', 'embedding_7', 'simple_rnn_12', 'text_vectorization_2', 'top_level_model_weights']\n",
      "Custom layer 0 (type: TextVectorizationWrapper) has no 'key' attribute, skipping.\n",
      "Loading 1 weight array(s) into layer 1 (type: EmbeddingWrapper, key: embedding_7)\n",
      "WARNING: No weights found for layer 'dropout_6'.\n",
      "Loading 0 weight array(s) into layer 2 (type: Dropout, key: dropout_6)\n",
      "Dropout has no trainable weights — skipping\n",
      "Loading 3 weight array(s) into layer 3 (type: SimpleRNN, key: simple_rnn_12)\n",
      "Weight successfuly loaded\n",
      "Loading 2 weight array(s) into layer 4 (type: Dense, key: dense_6)\n"
     ]
    }
   ],
   "source": [
    "from sequential import Sequential\n",
    "from layers.text_vectorization import TextVectorizationWrapper\n",
    "from layers.embedding import EmbeddingWrapper\n",
    "from layers.dense import Dense\n",
    "from layers.dropout import Dropout\n",
    "from layers.simple_rnn import SimpleRNN\n",
    "\n",
    "rnn_1_64 = Sequential([\n",
    "    TextVectorizationWrapper(TextVectorizer= vectorizer),\n",
    "    EmbeddingWrapper(input_dim=1000, output_dim=64),\n",
    "    Dropout(),\n",
    "    SimpleRNN(units=64,activation=\"tanh\"),\n",
    "    Dense(3,activation=\"softmax\")\n",
    "])\n",
    "\n",
    "rnn_1_64.load_weights(\"RNN_1_64.h5\")"
   ]
  },
  {
   "cell_type": "code",
   "execution_count": 11,
   "id": "81322ae3",
   "metadata": {},
   "outputs": [
    {
     "name": "stdout",
     "output_type": "stream",
     "text": [
      "Output shape: (400, 3)\n",
      "Output:\n",
      " [[0.3102391  0.2513485  0.43841241]\n",
      " [0.31023916 0.25134839 0.43841245]\n",
      " [0.3102391  0.25134849 0.43841241]\n",
      " ...\n",
      " [0.31023939 0.25134718 0.43841343]\n",
      " [0.3102391  0.25134849 0.43841241]\n",
      " [0.31023911 0.25134846 0.43841243]]\n"
     ]
    }
   ],
   "source": [
    "output = rnn_1_64.predict(x_test)\n",
    "print(\"Output shape:\", output.shape)\n",
    "print(\"Output:\\n\", output)"
   ]
  },
  {
   "cell_type": "code",
   "execution_count": 12,
   "id": "32044310",
   "metadata": {},
   "outputs": [
    {
     "name": "stdout",
     "output_type": "stream",
     "text": [
      "HDF5 layer keys: ['dense_7', 'dropout_7', 'embedding_8', 'simple_rnn_13', 'simple_rnn_14', 'text_vectorization_2', 'top_level_model_weights']\n",
      "Custom layer 0 (type: TextVectorizationWrapper) has no 'key' attribute, skipping.\n",
      "Loading 1 weight array(s) into layer 1 (type: EmbeddingWrapper, key: embedding_8)\n",
      "WARNING: No weights found for layer 'dropout_7'.\n",
      "Loading 0 weight array(s) into layer 2 (type: Dropout, key: dropout_7)\n",
      "Dropout has no trainable weights — skipping\n",
      "Loading 3 weight array(s) into layer 3 (type: SimpleRNN, key: simple_rnn_13)\n",
      "Weight successfuly loaded\n",
      "Loading 3 weight array(s) into layer 4 (type: SimpleRNN, key: simple_rnn_14)\n",
      "Weight successfuly loaded\n",
      "Loading 2 weight array(s) into layer 5 (type: Dense, key: dense_7)\n"
     ]
    }
   ],
   "source": [
    "rnn_2_64 = Sequential([\n",
    "    TextVectorizationWrapper(TextVectorizer= vectorizer),\n",
    "    EmbeddingWrapper(input_dim=1000, output_dim=64),\n",
    "    Dropout(),\n",
    "    SimpleRNN(units=64,activation=\"tanh\",return_sequences=True),\n",
    "    SimpleRNN(units=64,activation=\"tanh\"),\n",
    "    Dense(3,activation=\"softmax\")\n",
    "])\n",
    "rnn_2_64.load_weights(\"RNN_2_64.h5\")"
   ]
  },
  {
   "cell_type": "code",
   "execution_count": 13,
   "id": "63a22565",
   "metadata": {},
   "outputs": [
    {
     "name": "stdout",
     "output_type": "stream",
     "text": [
      "Output shape: (400, 3)\n",
      "Output:\n",
      " [[0.42343614 0.16675607 0.40980779]\n",
      " [0.42353142 0.16676579 0.4097028 ]\n",
      " [0.42347402 0.16677636 0.40974962]\n",
      " ...\n",
      " [0.42327882 0.16680186 0.40991932]\n",
      " [0.42353987 0.16672312 0.40973701]\n",
      " [0.42356163 0.16675245 0.40968591]]\n"
     ]
    }
   ],
   "source": [
    "output = rnn_2_64.predict(x_test)\n",
    "print(\"Output shape:\", output.shape)\n",
    "print(\"Output:\\n\", output)"
   ]
  },
  {
   "cell_type": "markdown",
   "id": "cf144de5",
   "metadata": {},
   "source": []
  },
  {
   "cell_type": "code",
   "execution_count": 15,
   "id": "d54e20a7",
   "metadata": {},
   "outputs": [
    {
     "name": "stdout",
     "output_type": "stream",
     "text": [
      "HDF5 layer keys: ['dense_8', 'dropout_8', 'embedding_9', 'simple_rnn_15', 'simple_rnn_16', 'simple_rnn_17', 'text_vectorization_2', 'top_level_model_weights']\n",
      "Custom layer 0 (type: TextVectorizationWrapper) has no 'key' attribute, skipping.\n",
      "Loading 1 weight array(s) into layer 1 (type: EmbeddingWrapper, key: embedding_9)\n",
      "WARNING: No weights found for layer 'dropout_8'.\n",
      "Loading 0 weight array(s) into layer 2 (type: Dropout, key: dropout_8)\n",
      "Dropout has no trainable weights — skipping\n",
      "Loading 3 weight array(s) into layer 3 (type: SimpleRNN, key: simple_rnn_15)\n",
      "Weight successfuly loaded\n",
      "Loading 3 weight array(s) into layer 4 (type: SimpleRNN, key: simple_rnn_16)\n",
      "Weight successfuly loaded\n",
      "Loading 3 weight array(s) into layer 5 (type: SimpleRNN, key: simple_rnn_17)\n",
      "Weight successfuly loaded\n",
      "Loading 2 weight array(s) into layer 6 (type: Dense, key: dense_8)\n"
     ]
    }
   ],
   "source": [
    "rnn_3_64 = Sequential([\n",
    "    TextVectorizationWrapper(TextVectorizer= vectorizer),\n",
    "    EmbeddingWrapper(input_dim=1000, output_dim=64),\n",
    "    Dropout(),\n",
    "    SimpleRNN(units=64,activation=\"tanh\",return_sequences=True),\n",
    "    SimpleRNN(units=64,activation=\"tanh\",return_sequences=True),\n",
    "    SimpleRNN(64),\n",
    "    Dense(3,activation=\"softmax\")\n",
    "])\n",
    "rnn_3_64.load_weights(\"RNN_3_64.h5\")"
   ]
  },
  {
   "cell_type": "code",
   "execution_count": 16,
   "id": "cf939beb",
   "metadata": {},
   "outputs": [
    {
     "name": "stdout",
     "output_type": "stream",
     "text": [
      "Output shape: (400, 3)\n",
      "Output:\n",
      " [[0.31278955 0.30902423 0.37818623]\n",
      " [0.31321605 0.3016501  0.38513384]\n",
      " [0.30946401 0.30050914 0.39002685]\n",
      " ...\n",
      " [0.30062091 0.31140323 0.38797586]\n",
      " [0.31370698 0.29849796 0.38779506]\n",
      " [0.31160333 0.31856062 0.36983604]]\n"
     ]
    }
   ],
   "source": [
    "output = rnn_3_64.predict(x_test)\n",
    "print(\"Output shape:\", output.shape)\n",
    "print(\"Output:\\n\", output)"
   ]
  }
 ],
 "metadata": {
  "kernelspec": {
   "display_name": ".venv",
   "language": "python",
   "name": "python3"
  },
  "language_info": {
   "codemirror_mode": {
    "name": "ipython",
    "version": 3
   },
   "file_extension": ".py",
   "mimetype": "text/x-python",
   "name": "python",
   "nbconvert_exporter": "python",
   "pygments_lexer": "ipython3",
   "version": "3.12.3"
  }
 },
 "nbformat": 4,
 "nbformat_minor": 5
}
